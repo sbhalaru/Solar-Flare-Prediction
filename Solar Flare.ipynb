{
 "cells": [
  {
   "cell_type": "code",
   "execution_count": 1,
   "metadata": {},
   "outputs": [],
   "source": [
    "import numpy as np\n",
    "import pandas as pd\n",
    "from matplotlib import pyplot as plt\n",
    "import seaborn as sns\n",
    "from datetime import datetime\n",
    "import scipy.stats as stats"
   ]
  },
  {
   "cell_type": "markdown",
   "metadata": {},
   "source": [
    "### Read data and show some statistics"
   ]
  },
  {
   "cell_type": "code",
   "execution_count": 18,
   "metadata": {},
   "outputs": [],
   "source": [
    "solar_df = pd.read_csv(\"hessi.solar.flare.UP_To_2018.csv\", sep=',', index_col=0)\n",
    "\n",
    "''' Drop the flag columns'''\n",
    "solar_df = solar_df.drop([\"active.region.ar\", \"flag.1\", \"flag.2\", \"flag.3\", \"flag.4\", \"flag.5\"], axis=1)\n",
    "\n",
    "''' Some Radial Values are beyond 2000'''\n",
    "solar_df = solar_df[solar_df[\"radial\"] <960]"
   ]
  },
  {
   "cell_type": "code",
   "execution_count": 19,
   "metadata": {},
   "outputs": [
    {
     "data": {
      "text/plain": [
       "94559"
      ]
     },
     "execution_count": 19,
     "metadata": {},
     "output_type": "execute_result"
    }
   ],
   "source": [
    "len(solar_df)"
   ]
  },
  {
   "cell_type": "code",
   "execution_count": 20,
   "metadata": {},
   "outputs": [
    {
     "data": {
      "text/html": [
       "<div>\n",
       "<style scoped>\n",
       "    .dataframe tbody tr th:only-of-type {\n",
       "        vertical-align: middle;\n",
       "    }\n",
       "\n",
       "    .dataframe tbody tr th {\n",
       "        vertical-align: top;\n",
       "    }\n",
       "\n",
       "    .dataframe thead th {\n",
       "        text-align: right;\n",
       "    }\n",
       "</style>\n",
       "<table border=\"1\" class=\"dataframe\">\n",
       "  <thead>\n",
       "    <tr style=\"text-align: right;\">\n",
       "      <th></th>\n",
       "      <th>start.date</th>\n",
       "      <th>start.time</th>\n",
       "      <th>peak</th>\n",
       "      <th>end</th>\n",
       "      <th>duration.s</th>\n",
       "      <th>peak.c/s</th>\n",
       "      <th>total.counts</th>\n",
       "      <th>energy.kev</th>\n",
       "      <th>x.pos.asec</th>\n",
       "      <th>y.pos.asec</th>\n",
       "      <th>radial</th>\n",
       "    </tr>\n",
       "    <tr>\n",
       "      <th>flare</th>\n",
       "      <th></th>\n",
       "      <th></th>\n",
       "      <th></th>\n",
       "      <th></th>\n",
       "      <th></th>\n",
       "      <th></th>\n",
       "      <th></th>\n",
       "      <th></th>\n",
       "      <th></th>\n",
       "      <th></th>\n",
       "      <th></th>\n",
       "    </tr>\n",
       "  </thead>\n",
       "  <tbody>\n",
       "    <tr>\n",
       "      <th>2021213</th>\n",
       "      <td>2002-02-12</td>\n",
       "      <td>21:29:56</td>\n",
       "      <td>21:33:38</td>\n",
       "      <td>21:41:48</td>\n",
       "      <td>712</td>\n",
       "      <td>136</td>\n",
       "      <td>167304.0</td>\n",
       "      <td>12-25</td>\n",
       "      <td>592</td>\n",
       "      <td>-358</td>\n",
       "      <td>692</td>\n",
       "    </tr>\n",
       "    <tr>\n",
       "      <th>2021228</th>\n",
       "      <td>2002-02-12</td>\n",
       "      <td>21:44:08</td>\n",
       "      <td>21:45:06</td>\n",
       "      <td>21:48:56</td>\n",
       "      <td>288</td>\n",
       "      <td>7</td>\n",
       "      <td>9504.0</td>\n",
       "      <td>6-12</td>\n",
       "      <td>604</td>\n",
       "      <td>-341</td>\n",
       "      <td>694</td>\n",
       "    </tr>\n",
       "    <tr>\n",
       "      <th>2021332</th>\n",
       "      <td>2002-02-13</td>\n",
       "      <td>00:53:24</td>\n",
       "      <td>00:54:54</td>\n",
       "      <td>00:57:00</td>\n",
       "      <td>216</td>\n",
       "      <td>15</td>\n",
       "      <td>11448.0</td>\n",
       "      <td>6-12</td>\n",
       "      <td>-310</td>\n",
       "      <td>375</td>\n",
       "      <td>487</td>\n",
       "    </tr>\n",
       "    <tr>\n",
       "      <th>2021308</th>\n",
       "      <td>2002-02-13</td>\n",
       "      <td>04:22:52</td>\n",
       "      <td>04:23:50</td>\n",
       "      <td>04:26:56</td>\n",
       "      <td>244</td>\n",
       "      <td>20</td>\n",
       "      <td>17400.0</td>\n",
       "      <td>12-25</td>\n",
       "      <td>-277</td>\n",
       "      <td>378</td>\n",
       "      <td>469</td>\n",
       "    </tr>\n",
       "    <tr>\n",
       "      <th>2021310</th>\n",
       "      <td>2002-02-13</td>\n",
       "      <td>07:03:52</td>\n",
       "      <td>07:05:14</td>\n",
       "      <td>07:07:48</td>\n",
       "      <td>236</td>\n",
       "      <td>336</td>\n",
       "      <td>313392.0</td>\n",
       "      <td>25-50</td>\n",
       "      <td>-272</td>\n",
       "      <td>390</td>\n",
       "      <td>476</td>\n",
       "    </tr>\n",
       "  </tbody>\n",
       "</table>\n",
       "</div>"
      ],
      "text/plain": [
       "         start.date start.time      peak       end  duration.s  peak.c/s  \\\n",
       "flare                                                                      \n",
       "2021213  2002-02-12   21:29:56  21:33:38  21:41:48         712       136   \n",
       "2021228  2002-02-12   21:44:08  21:45:06  21:48:56         288         7   \n",
       "2021332  2002-02-13   00:53:24  00:54:54  00:57:00         216        15   \n",
       "2021308  2002-02-13   04:22:52  04:23:50  04:26:56         244        20   \n",
       "2021310  2002-02-13   07:03:52  07:05:14  07:07:48         236       336   \n",
       "\n",
       "         total.counts energy.kev  x.pos.asec  y.pos.asec  radial  \n",
       "flare                                                             \n",
       "2021213      167304.0      12-25         592        -358     692  \n",
       "2021228        9504.0       6-12         604        -341     694  \n",
       "2021332       11448.0       6-12        -310         375     487  \n",
       "2021308       17400.0      12-25        -277         378     469  \n",
       "2021310      313392.0      25-50        -272         390     476  "
      ]
     },
     "execution_count": 20,
     "metadata": {},
     "output_type": "execute_result"
    }
   ],
   "source": [
    "solar_df.head(5)"
   ]
  },
  {
   "cell_type": "code",
   "execution_count": 21,
   "metadata": {},
   "outputs": [
    {
     "data": {
      "text/plain": [
       "start.date      0\n",
       "start.time      0\n",
       "peak            0\n",
       "end             0\n",
       "duration.s      0\n",
       "peak.c/s        0\n",
       "total.counts    0\n",
       "energy.kev      0\n",
       "x.pos.asec      0\n",
       "y.pos.asec      0\n",
       "radial          0\n",
       "dtype: int64"
      ]
     },
     "execution_count": 21,
     "metadata": {},
     "output_type": "execute_result"
    }
   ],
   "source": [
    "solar_df.isnull().sum()"
   ]
  },
  {
   "cell_type": "code",
   "execution_count": 22,
   "metadata": {},
   "outputs": [
    {
     "data": {
      "text/html": [
       "<div>\n",
       "<style scoped>\n",
       "    .dataframe tbody tr th:only-of-type {\n",
       "        vertical-align: middle;\n",
       "    }\n",
       "\n",
       "    .dataframe tbody tr th {\n",
       "        vertical-align: top;\n",
       "    }\n",
       "\n",
       "    .dataframe thead th {\n",
       "        text-align: right;\n",
       "    }\n",
       "</style>\n",
       "<table border=\"1\" class=\"dataframe\">\n",
       "  <thead>\n",
       "    <tr style=\"text-align: right;\">\n",
       "      <th></th>\n",
       "      <th>duration.s</th>\n",
       "      <th>peak.c/s</th>\n",
       "      <th>total.counts</th>\n",
       "      <th>x.pos.asec</th>\n",
       "      <th>y.pos.asec</th>\n",
       "      <th>radial</th>\n",
       "    </tr>\n",
       "  </thead>\n",
       "  <tbody>\n",
       "    <tr>\n",
       "      <th>count</th>\n",
       "      <td>94559.000000</td>\n",
       "      <td>94559.000000</td>\n",
       "      <td>9.455900e+04</td>\n",
       "      <td>94559.000000</td>\n",
       "      <td>94559.000000</td>\n",
       "      <td>94559.000000</td>\n",
       "    </tr>\n",
       "    <tr>\n",
       "      <th>mean</th>\n",
       "      <td>484.351484</td>\n",
       "      <td>219.663342</td>\n",
       "      <td>3.687067e+05</td>\n",
       "      <td>-1.492846</td>\n",
       "      <td>-34.227879</td>\n",
       "      <td>604.940302</td>\n",
       "    </tr>\n",
       "    <tr>\n",
       "      <th>std</th>\n",
       "      <td>426.727985</td>\n",
       "      <td>885.057346</td>\n",
       "      <td>3.148810e+06</td>\n",
       "      <td>620.340826</td>\n",
       "      <td>251.389632</td>\n",
       "      <td>288.761519</td>\n",
       "    </tr>\n",
       "    <tr>\n",
       "      <th>min</th>\n",
       "      <td>8.000000</td>\n",
       "      <td>0.000000</td>\n",
       "      <td>8.000000e+00</td>\n",
       "      <td>-959.000000</td>\n",
       "      <td>-959.000000</td>\n",
       "      <td>0.000000</td>\n",
       "    </tr>\n",
       "    <tr>\n",
       "      <th>25%</th>\n",
       "      <td>208.000000</td>\n",
       "      <td>28.000000</td>\n",
       "      <td>2.226600e+04</td>\n",
       "      <td>-594.000000</td>\n",
       "      <td>-246.000000</td>\n",
       "      <td>405.000000</td>\n",
       "    </tr>\n",
       "    <tr>\n",
       "      <th>50%</th>\n",
       "      <td>360.000000</td>\n",
       "      <td>56.000000</td>\n",
       "      <td>5.755200e+04</td>\n",
       "      <td>0.000000</td>\n",
       "      <td>-62.000000</td>\n",
       "      <td>657.000000</td>\n",
       "    </tr>\n",
       "    <tr>\n",
       "      <th>75%</th>\n",
       "      <td>616.000000</td>\n",
       "      <td>144.000000</td>\n",
       "      <td>1.767480e+05</td>\n",
       "      <td>597.000000</td>\n",
       "      <td>190.000000</td>\n",
       "      <td>866.000000</td>\n",
       "    </tr>\n",
       "    <tr>\n",
       "      <th>max</th>\n",
       "      <td>4444.000000</td>\n",
       "      <td>113156.000000</td>\n",
       "      <td>4.355501e+08</td>\n",
       "      <td>959.000000</td>\n",
       "      <td>957.000000</td>\n",
       "      <td>959.000000</td>\n",
       "    </tr>\n",
       "  </tbody>\n",
       "</table>\n",
       "</div>"
      ],
      "text/plain": [
       "         duration.s       peak.c/s  total.counts    x.pos.asec    y.pos.asec  \\\n",
       "count  94559.000000   94559.000000  9.455900e+04  94559.000000  94559.000000   \n",
       "mean     484.351484     219.663342  3.687067e+05     -1.492846    -34.227879   \n",
       "std      426.727985     885.057346  3.148810e+06    620.340826    251.389632   \n",
       "min        8.000000       0.000000  8.000000e+00   -959.000000   -959.000000   \n",
       "25%      208.000000      28.000000  2.226600e+04   -594.000000   -246.000000   \n",
       "50%      360.000000      56.000000  5.755200e+04      0.000000    -62.000000   \n",
       "75%      616.000000     144.000000  1.767480e+05    597.000000    190.000000   \n",
       "max     4444.000000  113156.000000  4.355501e+08    959.000000    957.000000   \n",
       "\n",
       "             radial  \n",
       "count  94559.000000  \n",
       "mean     604.940302  \n",
       "std      288.761519  \n",
       "min        0.000000  \n",
       "25%      405.000000  \n",
       "50%      657.000000  \n",
       "75%      866.000000  \n",
       "max      959.000000  "
      ]
     },
     "execution_count": 22,
     "metadata": {},
     "output_type": "execute_result"
    }
   ],
   "source": [
    "solar_df.describe()"
   ]
  },
  {
   "cell_type": "markdown",
   "metadata": {},
   "source": [
    "### Data Preprocessing"
   ]
  },
  {
   "cell_type": "code",
   "execution_count": 23,
   "metadata": {},
   "outputs": [],
   "source": [
    "# parse date, time\n",
    "def parse_date(sdatex, stimex):\n",
    "        datex = datetime.strptime(sdatex, '%Y-%m-%d')\n",
    "        timex = datetime.strptime(stimex, '%H:%M:%S')\n",
    "        return datetime(datex.year,datex.month,datex.day,timex.hour,timex.minute,timex.second)"
   ]
  },
  {
   "cell_type": "code",
   "execution_count": 24,
   "metadata": {},
   "outputs": [],
   "source": [
    "pd_df = solar_df.copy(deep=True)"
   ]
  },
  {
   "cell_type": "code",
   "execution_count": 25,
   "metadata": {},
   "outputs": [],
   "source": [
    "# Adding year, month, day, start date, peak date, end date and dropping earlier columns\n",
    "pd_df['dt.start'] = pd_df[['start.date','start.time']].apply(lambda x: parse_date(x[0],x[1]), axis=1)\n",
    "pd_df['dt.peak'] = pd_df[['start.date','peak']].apply(lambda x: parse_date(x[0],x[1]), axis=1)\n",
    "pd_df['dt.end'] = pd_df[['start.date','end']].apply(lambda x: parse_date(x[0],x[1]), axis=1)\n",
    "\n",
    "pd_df.drop(['start.date','start.time','peak','end'], axis=1, inplace=True)\n",
    "\n",
    "# add new columns\n",
    "pd_df['year'] = pd_df['dt.start'].apply(lambda col: col.year)\n",
    "pd_df['month'] = pd_df['dt.start'].apply(lambda col: col.month)\n",
    "pd_df['day'] = pd_df['dt.start'].apply(lambda col: col.day)"
   ]
  },
  {
   "cell_type": "code",
   "execution_count": 26,
   "metadata": {},
   "outputs": [],
   "source": [
    "pd_df = pd_df.rename(columns={'duration.s': 'duration', 'peak.c/s': 'peak_c_s', 'total.counts': 'total_counts', \n",
    "                                    'energy.kev': 'energy_kev', 'x.pos.asec': 'x_pos', 'y.pos.asec': 'y_pos', \n",
    "                                    'dt.start': 'date_start', 'dt.peak':'date_peak', 'dt.end': 'date_end'})"
   ]
  },
  {
   "cell_type": "code",
   "execution_count": 27,
   "metadata": {},
   "outputs": [
    {
     "data": {
      "text/html": [
       "<div>\n",
       "<style scoped>\n",
       "    .dataframe tbody tr th:only-of-type {\n",
       "        vertical-align: middle;\n",
       "    }\n",
       "\n",
       "    .dataframe tbody tr th {\n",
       "        vertical-align: top;\n",
       "    }\n",
       "\n",
       "    .dataframe thead th {\n",
       "        text-align: right;\n",
       "    }\n",
       "</style>\n",
       "<table border=\"1\" class=\"dataframe\">\n",
       "  <thead>\n",
       "    <tr style=\"text-align: right;\">\n",
       "      <th></th>\n",
       "      <th>duration</th>\n",
       "      <th>peak_c_s</th>\n",
       "      <th>total_counts</th>\n",
       "      <th>energy_kev</th>\n",
       "      <th>x_pos</th>\n",
       "      <th>y_pos</th>\n",
       "      <th>radial</th>\n",
       "      <th>date_start</th>\n",
       "      <th>date_peak</th>\n",
       "      <th>date_end</th>\n",
       "      <th>year</th>\n",
       "      <th>month</th>\n",
       "      <th>day</th>\n",
       "    </tr>\n",
       "    <tr>\n",
       "      <th>flare</th>\n",
       "      <th></th>\n",
       "      <th></th>\n",
       "      <th></th>\n",
       "      <th></th>\n",
       "      <th></th>\n",
       "      <th></th>\n",
       "      <th></th>\n",
       "      <th></th>\n",
       "      <th></th>\n",
       "      <th></th>\n",
       "      <th></th>\n",
       "      <th></th>\n",
       "      <th></th>\n",
       "    </tr>\n",
       "  </thead>\n",
       "  <tbody>\n",
       "    <tr>\n",
       "      <th>2021213</th>\n",
       "      <td>712</td>\n",
       "      <td>136</td>\n",
       "      <td>167304.0</td>\n",
       "      <td>12-25</td>\n",
       "      <td>592</td>\n",
       "      <td>-358</td>\n",
       "      <td>692</td>\n",
       "      <td>2002-02-12 21:29:56</td>\n",
       "      <td>2002-02-12 21:33:38</td>\n",
       "      <td>2002-02-12 21:41:48</td>\n",
       "      <td>2002</td>\n",
       "      <td>2</td>\n",
       "      <td>12</td>\n",
       "    </tr>\n",
       "    <tr>\n",
       "      <th>2021228</th>\n",
       "      <td>288</td>\n",
       "      <td>7</td>\n",
       "      <td>9504.0</td>\n",
       "      <td>6-12</td>\n",
       "      <td>604</td>\n",
       "      <td>-341</td>\n",
       "      <td>694</td>\n",
       "      <td>2002-02-12 21:44:08</td>\n",
       "      <td>2002-02-12 21:45:06</td>\n",
       "      <td>2002-02-12 21:48:56</td>\n",
       "      <td>2002</td>\n",
       "      <td>2</td>\n",
       "      <td>12</td>\n",
       "    </tr>\n",
       "    <tr>\n",
       "      <th>2021332</th>\n",
       "      <td>216</td>\n",
       "      <td>15</td>\n",
       "      <td>11448.0</td>\n",
       "      <td>6-12</td>\n",
       "      <td>-310</td>\n",
       "      <td>375</td>\n",
       "      <td>487</td>\n",
       "      <td>2002-02-13 00:53:24</td>\n",
       "      <td>2002-02-13 00:54:54</td>\n",
       "      <td>2002-02-13 00:57:00</td>\n",
       "      <td>2002</td>\n",
       "      <td>2</td>\n",
       "      <td>13</td>\n",
       "    </tr>\n",
       "    <tr>\n",
       "      <th>2021308</th>\n",
       "      <td>244</td>\n",
       "      <td>20</td>\n",
       "      <td>17400.0</td>\n",
       "      <td>12-25</td>\n",
       "      <td>-277</td>\n",
       "      <td>378</td>\n",
       "      <td>469</td>\n",
       "      <td>2002-02-13 04:22:52</td>\n",
       "      <td>2002-02-13 04:23:50</td>\n",
       "      <td>2002-02-13 04:26:56</td>\n",
       "      <td>2002</td>\n",
       "      <td>2</td>\n",
       "      <td>13</td>\n",
       "    </tr>\n",
       "    <tr>\n",
       "      <th>2021310</th>\n",
       "      <td>236</td>\n",
       "      <td>336</td>\n",
       "      <td>313392.0</td>\n",
       "      <td>25-50</td>\n",
       "      <td>-272</td>\n",
       "      <td>390</td>\n",
       "      <td>476</td>\n",
       "      <td>2002-02-13 07:03:52</td>\n",
       "      <td>2002-02-13 07:05:14</td>\n",
       "      <td>2002-02-13 07:07:48</td>\n",
       "      <td>2002</td>\n",
       "      <td>2</td>\n",
       "      <td>13</td>\n",
       "    </tr>\n",
       "  </tbody>\n",
       "</table>\n",
       "</div>"
      ],
      "text/plain": [
       "         duration  peak_c_s  total_counts energy_kev  x_pos  y_pos  radial  \\\n",
       "flare                                                                        \n",
       "2021213       712       136      167304.0      12-25    592   -358     692   \n",
       "2021228       288         7        9504.0       6-12    604   -341     694   \n",
       "2021332       216        15       11448.0       6-12   -310    375     487   \n",
       "2021308       244        20       17400.0      12-25   -277    378     469   \n",
       "2021310       236       336      313392.0      25-50   -272    390     476   \n",
       "\n",
       "                 date_start           date_peak            date_end  year  \\\n",
       "flare                                                                       \n",
       "2021213 2002-02-12 21:29:56 2002-02-12 21:33:38 2002-02-12 21:41:48  2002   \n",
       "2021228 2002-02-12 21:44:08 2002-02-12 21:45:06 2002-02-12 21:48:56  2002   \n",
       "2021332 2002-02-13 00:53:24 2002-02-13 00:54:54 2002-02-13 00:57:00  2002   \n",
       "2021308 2002-02-13 04:22:52 2002-02-13 04:23:50 2002-02-13 04:26:56  2002   \n",
       "2021310 2002-02-13 07:03:52 2002-02-13 07:05:14 2002-02-13 07:07:48  2002   \n",
       "\n",
       "         month  day  \n",
       "flare                \n",
       "2021213      2   12  \n",
       "2021228      2   12  \n",
       "2021332      2   13  \n",
       "2021308      2   13  \n",
       "2021310      2   13  "
      ]
     },
     "execution_count": 27,
     "metadata": {},
     "output_type": "execute_result"
    }
   ],
   "source": [
    "pd_df.head(5)"
   ]
  },
  {
   "cell_type": "code",
   "execution_count": 28,
   "metadata": {},
   "outputs": [],
   "source": [
    "# Enumerating energy range values from str to category\n",
    "category = {'3-6': 0, '6-12': 1, '12-25': 2, '25-50': 3, '50-100': 4, '100-300': 5, '300-800': 6, '800-7000': 7, '7000-20000': 8}\n",
    "pd_df['energy_kev'] = pd_df['energy_kev'].map(category)"
   ]
  },
  {
   "cell_type": "code",
   "execution_count": 29,
   "metadata": {},
   "outputs": [],
   "source": [
    "# Deal with the skewed duration data using log transform\n",
    "pd_df['duration'] = np.log1p(pd_df['duration'])"
   ]
  },
  {
   "cell_type": "code",
   "execution_count": 30,
   "metadata": {},
   "outputs": [],
   "source": [
    "pd_df = pd_df.drop(['date_start', 'date_peak', 'date_end'], axis=1)"
   ]
  },
  {
   "cell_type": "markdown",
   "metadata": {},
   "source": [
    "### Create Train/Test Set"
   ]
  },
  {
   "cell_type": "code",
   "execution_count": 33,
   "metadata": {},
   "outputs": [],
   "source": [
    "from sklearn.model_selection import train_test_split\n",
    "from sklearn.metrics import mean_squared_error\n",
    "X_train, X_test = train_test_split(pd_df, test_size=0.2)"
   ]
  },
  {
   "cell_type": "code",
   "execution_count": 34,
   "metadata": {},
   "outputs": [
    {
     "data": {
      "text/plain": [
       "((75647, 10), (18912, 10))"
      ]
     },
     "execution_count": 34,
     "metadata": {},
     "output_type": "execute_result"
    }
   ],
   "source": [
    "X_train.shape, X_test.shape"
   ]
  },
  {
   "cell_type": "markdown",
   "metadata": {},
   "source": [
    "### Predcition for energy_kev\n",
    "Best result - Random Forest 0.87"
   ]
  },
  {
   "cell_type": "code",
   "execution_count": 35,
   "metadata": {},
   "outputs": [],
   "source": [
    "y_train_energy = X_train['energy_kev']\n",
    "X_train_energy = X_train.drop(['energy_kev', 'duration'], axis=1)\n",
    "\n",
    "y_test_energy = X_test['energy_kev']\n",
    "X_test_energy = X_test.drop(['energy_kev', 'duration'], axis=1)"
   ]
  },
  {
   "cell_type": "code",
   "execution_count": 38,
   "metadata": {},
   "outputs": [
    {
     "data": {
      "text/plain": [
       "(0.8686548223350253, 0.9999735614102344)"
      ]
     },
     "execution_count": 38,
     "metadata": {},
     "output_type": "execute_result"
    }
   ],
   "source": [
    "# Random Forest\n",
    "from sklearn.ensemble import RandomForestClassifier\n",
    "random_forest_classifier = RandomForestClassifier(n_jobs=-1).fit(X_train_energy, y_train_energy)\n",
    "random_forest_score = random_forest_classifier.score(X_test_energy, y_test_energy)\n",
    "random_forest_score_train = random_forest_classifier.score(X_train_energy, y_train_energy)\n",
    "random_forest_score, random_forest_score_train"
   ]
  },
  {
   "cell_type": "markdown",
   "metadata": {},
   "source": [
    "### Prediction for duration\n",
    "Best result - Random Forest 0.8496"
   ]
  },
  {
   "cell_type": "code",
   "execution_count": 37,
   "metadata": {},
   "outputs": [],
   "source": [
    "y_train_duration = X_train['duration']\n",
    "X_train_duration = X_train.drop(['energy_kev', 'duration'], axis=1)\n",
    "\n",
    "y_test_duration = X_test['duration']\n",
    "X_test_duration = X_test.drop(['energy_kev', 'duration'], axis=1)"
   ]
  },
  {
   "cell_type": "code",
   "execution_count": 43,
   "metadata": {},
   "outputs": [
    {
     "data": {
      "text/plain": [
       "(0.8455543644863435,\n",
       " 0.9782757767844703,\n",
       " 0.11010360733002275,\n",
       " 0.015161059255677307)"
      ]
     },
     "execution_count": 43,
     "metadata": {},
     "output_type": "execute_result"
    }
   ],
   "source": [
    "# Random Forest\n",
    "from sklearn.ensemble import RandomForestRegressor\n",
    "random_forest_regressor = RandomForestRegressor(n_jobs=-1).fit(X_train_duration, y_train_duration)\n",
    "random_forest_predictions = random_forest_regressor.predict(X_train_duration)\n",
    "random_forest_predictions_test = random_forest_regressor.predict(X_test_duration)\n",
    "random_forest_MSE_train = mean_squared_error(y_train_duration, random_forest_predictions)\n",
    "random_forest_MSE = mean_squared_error(y_test_duration, random_forest_predictions_test)\n",
    "\n",
    "random_forest_score = random_forest_regressor.score(X_test_duration, y_test_duration)\n",
    "random_forest_score_train = random_forest_regressor.score(X_train_duration, y_train_duration)\n",
    "random_forest_score, random_forest_score_train, random_forest_MSE, random_forest_MSE_train"
   ]
  },
  {
   "cell_type": "markdown",
   "metadata": {},
   "source": [
    "### Prediction for x.pos\n",
    "Best result - Random Forest 0.69"
   ]
  },
  {
   "cell_type": "code",
   "execution_count": 44,
   "metadata": {},
   "outputs": [],
   "source": [
    "y_train_xpos = X_train['x_pos']\n",
    "X_train_xpos = X_train.drop(['x_pos', 'y_pos'], axis=1)\n",
    "\n",
    "y_test_xpos = X_test['x_pos']\n",
    "X_test_xpos = X_test.drop(['x_pos', 'y_pos'], axis=1)"
   ]
  },
  {
   "cell_type": "code",
   "execution_count": 45,
   "metadata": {},
   "outputs": [
    {
     "data": {
      "text/plain": [
       "(0.6960875247464864, 0.9569849950879823)"
      ]
     },
     "execution_count": 45,
     "metadata": {},
     "output_type": "execute_result"
    }
   ],
   "source": [
    "# Random Forest\n",
    "from sklearn.ensemble import RandomForestRegressor\n",
    "random_forest_regressor = RandomForestRegressor(n_jobs=-1).fit(X_train_xpos, y_train_xpos)\n",
    "random_forest_predictions = random_forest_regressor.predict(X_test_xpos)\n",
    "random_forest_score = random_forest_regressor.score(X_test_xpos, y_test_xpos)\n",
    "random_forest_score_train = random_forest_regressor.score(X_train_xpos, y_train_xpos)\n",
    "random_forest_score, random_forest_score_train"
   ]
  },
  {
   "cell_type": "markdown",
   "metadata": {},
   "source": [
    "### Prediction for y.pos\n",
    "Best result - Random Forest 0.6355"
   ]
  },
  {
   "cell_type": "code",
   "execution_count": 46,
   "metadata": {},
   "outputs": [],
   "source": [
    "y_train_ypos = X_train['y_pos']\n",
    "X_train_ypos = X_train.drop(['x_pos', 'y_pos'], axis=1)\n",
    "\n",
    "y_test_ypos = X_test['y_pos']\n",
    "X_test_ypos = X_test.drop(['x_pos', 'y_pos'], axis=1)"
   ]
  },
  {
   "cell_type": "code",
   "execution_count": 47,
   "metadata": {},
   "outputs": [
    {
     "data": {
      "text/plain": [
       "(0.6731553692155867, 0.9536577720586823)"
      ]
     },
     "execution_count": 47,
     "metadata": {},
     "output_type": "execute_result"
    }
   ],
   "source": [
    "# Random Forest\n",
    "from sklearn.ensemble import RandomForestRegressor\n",
    "random_forest_regressor = RandomForestRegressor(n_jobs=-1).fit(X_train_ypos, y_train_ypos)\n",
    "random_forest_predictions = random_forest_regressor.predict(X_test_ypos)\n",
    "random_forest_score = random_forest_regressor.score(X_test_ypos, y_test_ypos)\n",
    "random_forest_score_train = random_forest_regressor.score(X_train_ypos, y_train_ypos)\n",
    "random_forest_score, random_forest_score_train"
   ]
  },
  {
   "cell_type": "code",
   "execution_count": null,
   "metadata": {},
   "outputs": [],
   "source": []
  }
 ],
 "metadata": {
  "interpreter": {
   "hash": "0267f72e179a3291ac96e6d5bd4183587567e0f47878f79b81464ab264b49583"
  },
  "kernelspec": {
   "display_name": "Python 3.9.7 ('cse258')",
   "language": "python",
   "name": "python3"
  },
  "language_info": {
   "codemirror_mode": {
    "name": "ipython",
    "version": 3
   },
   "file_extension": ".py",
   "mimetype": "text/x-python",
   "name": "python",
   "nbconvert_exporter": "python",
   "pygments_lexer": "ipython3",
   "version": "3.9.7"
  },
  "orig_nbformat": 4
 },
 "nbformat": 4,
 "nbformat_minor": 2
}
