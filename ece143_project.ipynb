{
 "cells": [
  {
   "cell_type": "code",
   "execution_count": 1,
   "metadata": {},
   "outputs": [],
   "source": [
    "import numpy as np\n",
    "import pandas as pd\n",
    "from matplotlib import pyplot as plt\n",
    "import seaborn as sns\n",
    "from datetime import datetime"
   ]
  },
  {
   "cell_type": "markdown",
   "metadata": {},
   "source": [
    "### Read data and show some statistics"
   ]
  },
  {
   "cell_type": "code",
   "execution_count": 2,
   "metadata": {},
   "outputs": [],
   "source": [
    "solar_df = pd.read_csv(\"hessi.solar.flare.UP_To_2018.csv\", sep=',', index_col=0)\n",
    "\n",
    "''' Drop the flag columns'''\n",
    "solar_df = solar_df.drop([\"active.region.ar\", \"flag.1\", \"flag.2\", \"flag.3\", \"flag.4\", \"flag.5\"], axis=1)"
   ]
  },
  {
   "cell_type": "code",
   "execution_count": 3,
   "metadata": {},
   "outputs": [
    {
     "data": {
      "text/plain": [
       "116143"
      ]
     },
     "execution_count": 3,
     "metadata": {},
     "output_type": "execute_result"
    }
   ],
   "source": [
    "len(solar_df)"
   ]
  },
  {
   "cell_type": "code",
   "execution_count": 4,
   "metadata": {},
   "outputs": [
    {
     "data": {
      "text/html": [
       "<div>\n",
       "<style scoped>\n",
       "    .dataframe tbody tr th:only-of-type {\n",
       "        vertical-align: middle;\n",
       "    }\n",
       "\n",
       "    .dataframe tbody tr th {\n",
       "        vertical-align: top;\n",
       "    }\n",
       "\n",
       "    .dataframe thead th {\n",
       "        text-align: right;\n",
       "    }\n",
       "</style>\n",
       "<table border=\"1\" class=\"dataframe\">\n",
       "  <thead>\n",
       "    <tr style=\"text-align: right;\">\n",
       "      <th></th>\n",
       "      <th>start.date</th>\n",
       "      <th>start.time</th>\n",
       "      <th>peak</th>\n",
       "      <th>end</th>\n",
       "      <th>duration.s</th>\n",
       "      <th>peak.c/s</th>\n",
       "      <th>total.counts</th>\n",
       "      <th>energy.kev</th>\n",
       "      <th>x.pos.asec</th>\n",
       "      <th>y.pos.asec</th>\n",
       "      <th>radial</th>\n",
       "    </tr>\n",
       "    <tr>\n",
       "      <th>flare</th>\n",
       "      <th></th>\n",
       "      <th></th>\n",
       "      <th></th>\n",
       "      <th></th>\n",
       "      <th></th>\n",
       "      <th></th>\n",
       "      <th></th>\n",
       "      <th></th>\n",
       "      <th></th>\n",
       "      <th></th>\n",
       "      <th></th>\n",
       "    </tr>\n",
       "  </thead>\n",
       "  <tbody>\n",
       "    <tr>\n",
       "      <th>2021213</th>\n",
       "      <td>2002-02-12</td>\n",
       "      <td>21:29:56</td>\n",
       "      <td>21:33:38</td>\n",
       "      <td>21:41:48</td>\n",
       "      <td>712</td>\n",
       "      <td>136</td>\n",
       "      <td>167304.0</td>\n",
       "      <td>12-25</td>\n",
       "      <td>592</td>\n",
       "      <td>-358</td>\n",
       "      <td>692</td>\n",
       "    </tr>\n",
       "    <tr>\n",
       "      <th>2021228</th>\n",
       "      <td>2002-02-12</td>\n",
       "      <td>21:44:08</td>\n",
       "      <td>21:45:06</td>\n",
       "      <td>21:48:56</td>\n",
       "      <td>288</td>\n",
       "      <td>7</td>\n",
       "      <td>9504.0</td>\n",
       "      <td>6-12</td>\n",
       "      <td>604</td>\n",
       "      <td>-341</td>\n",
       "      <td>694</td>\n",
       "    </tr>\n",
       "    <tr>\n",
       "      <th>2021332</th>\n",
       "      <td>2002-02-13</td>\n",
       "      <td>00:53:24</td>\n",
       "      <td>00:54:54</td>\n",
       "      <td>00:57:00</td>\n",
       "      <td>216</td>\n",
       "      <td>15</td>\n",
       "      <td>11448.0</td>\n",
       "      <td>6-12</td>\n",
       "      <td>-310</td>\n",
       "      <td>375</td>\n",
       "      <td>487</td>\n",
       "    </tr>\n",
       "    <tr>\n",
       "      <th>2021308</th>\n",
       "      <td>2002-02-13</td>\n",
       "      <td>04:22:52</td>\n",
       "      <td>04:23:50</td>\n",
       "      <td>04:26:56</td>\n",
       "      <td>244</td>\n",
       "      <td>20</td>\n",
       "      <td>17400.0</td>\n",
       "      <td>12-25</td>\n",
       "      <td>-277</td>\n",
       "      <td>378</td>\n",
       "      <td>469</td>\n",
       "    </tr>\n",
       "    <tr>\n",
       "      <th>2021310</th>\n",
       "      <td>2002-02-13</td>\n",
       "      <td>07:03:52</td>\n",
       "      <td>07:05:14</td>\n",
       "      <td>07:07:48</td>\n",
       "      <td>236</td>\n",
       "      <td>336</td>\n",
       "      <td>313392.0</td>\n",
       "      <td>25-50</td>\n",
       "      <td>-272</td>\n",
       "      <td>390</td>\n",
       "      <td>476</td>\n",
       "    </tr>\n",
       "    <tr>\n",
       "      <th>...</th>\n",
       "      <td>...</td>\n",
       "      <td>...</td>\n",
       "      <td>...</td>\n",
       "      <td>...</td>\n",
       "      <td>...</td>\n",
       "      <td>...</td>\n",
       "      <td>...</td>\n",
       "      <td>...</td>\n",
       "      <td>...</td>\n",
       "      <td>...</td>\n",
       "      <td>...</td>\n",
       "    </tr>\n",
       "    <tr>\n",
       "      <th>18020903</th>\n",
       "      <td>2018-02-09</td>\n",
       "      <td>16:41:28</td>\n",
       "      <td>16:42:54</td>\n",
       "      <td>16:43:32</td>\n",
       "      <td>124</td>\n",
       "      <td>18</td>\n",
       "      <td>2888.0</td>\n",
       "      <td>6-12</td>\n",
       "      <td>-345</td>\n",
       "      <td>-38</td>\n",
       "      <td>347</td>\n",
       "    </tr>\n",
       "    <tr>\n",
       "      <th>18020904</th>\n",
       "      <td>2018-02-09</td>\n",
       "      <td>18:15:56</td>\n",
       "      <td>18:17:26</td>\n",
       "      <td>18:17:40</td>\n",
       "      <td>104</td>\n",
       "      <td>16</td>\n",
       "      <td>1656.0</td>\n",
       "      <td>6-12</td>\n",
       "      <td>-268</td>\n",
       "      <td>-38</td>\n",
       "      <td>271</td>\n",
       "    </tr>\n",
       "    <tr>\n",
       "      <th>18021001</th>\n",
       "      <td>2018-02-10</td>\n",
       "      <td>13:04:36</td>\n",
       "      <td>13:06:46</td>\n",
       "      <td>13:07:04</td>\n",
       "      <td>148</td>\n",
       "      <td>15</td>\n",
       "      <td>2224.0</td>\n",
       "      <td>6-12</td>\n",
       "      <td>-115</td>\n",
       "      <td>-38</td>\n",
       "      <td>121</td>\n",
       "    </tr>\n",
       "    <tr>\n",
       "      <th>18022601</th>\n",
       "      <td>2018-02-26</td>\n",
       "      <td>15:49:56</td>\n",
       "      <td>15:51:18</td>\n",
       "      <td>15:53:52</td>\n",
       "      <td>236</td>\n",
       "      <td>16</td>\n",
       "      <td>3312.0</td>\n",
       "      <td>6-12</td>\n",
       "      <td>115</td>\n",
       "      <td>192</td>\n",
       "      <td>223</td>\n",
       "    </tr>\n",
       "    <tr>\n",
       "      <th>18030301</th>\n",
       "      <td>2018-03-03</td>\n",
       "      <td>04:04:08</td>\n",
       "      <td>04:06:22</td>\n",
       "      <td>04:12:20</td>\n",
       "      <td>492</td>\n",
       "      <td>42</td>\n",
       "      <td>15816.0</td>\n",
       "      <td>6-12</td>\n",
       "      <td>926</td>\n",
       "      <td>128</td>\n",
       "      <td>935</td>\n",
       "    </tr>\n",
       "  </tbody>\n",
       "</table>\n",
       "<p>116143 rows × 11 columns</p>\n",
       "</div>"
      ],
      "text/plain": [
       "          start.date start.time      peak       end  duration.s  peak.c/s  \\\n",
       "flare                                                                       \n",
       "2021213   2002-02-12   21:29:56  21:33:38  21:41:48         712       136   \n",
       "2021228   2002-02-12   21:44:08  21:45:06  21:48:56         288         7   \n",
       "2021332   2002-02-13   00:53:24  00:54:54  00:57:00         216        15   \n",
       "2021308   2002-02-13   04:22:52  04:23:50  04:26:56         244        20   \n",
       "2021310   2002-02-13   07:03:52  07:05:14  07:07:48         236       336   \n",
       "...              ...        ...       ...       ...         ...       ...   \n",
       "18020903  2018-02-09   16:41:28  16:42:54  16:43:32         124        18   \n",
       "18020904  2018-02-09   18:15:56  18:17:26  18:17:40         104        16   \n",
       "18021001  2018-02-10   13:04:36  13:06:46  13:07:04         148        15   \n",
       "18022601  2018-02-26   15:49:56  15:51:18  15:53:52         236        16   \n",
       "18030301  2018-03-03   04:04:08  04:06:22  04:12:20         492        42   \n",
       "\n",
       "          total.counts energy.kev  x.pos.asec  y.pos.asec  radial  \n",
       "flare                                                              \n",
       "2021213       167304.0      12-25         592        -358     692  \n",
       "2021228         9504.0       6-12         604        -341     694  \n",
       "2021332        11448.0       6-12        -310         375     487  \n",
       "2021308        17400.0      12-25        -277         378     469  \n",
       "2021310       313392.0      25-50        -272         390     476  \n",
       "...                ...        ...         ...         ...     ...  \n",
       "18020903        2888.0       6-12        -345         -38     347  \n",
       "18020904        1656.0       6-12        -268         -38     271  \n",
       "18021001        2224.0       6-12        -115         -38     121  \n",
       "18022601        3312.0       6-12         115         192     223  \n",
       "18030301       15816.0       6-12         926         128     935  \n",
       "\n",
       "[116143 rows x 11 columns]"
      ]
     },
     "execution_count": 4,
     "metadata": {},
     "output_type": "execute_result"
    }
   ],
   "source": [
    "solar_df"
   ]
  },
  {
   "cell_type": "code",
   "execution_count": 5,
   "metadata": {},
   "outputs": [
    {
     "data": {
      "text/plain": [
       "start.date      0\n",
       "start.time      0\n",
       "peak            0\n",
       "end             0\n",
       "duration.s      0\n",
       "peak.c/s        0\n",
       "total.counts    0\n",
       "energy.kev      0\n",
       "x.pos.asec      0\n",
       "y.pos.asec      0\n",
       "radial          0\n",
       "dtype: int64"
      ]
     },
     "execution_count": 5,
     "metadata": {},
     "output_type": "execute_result"
    }
   ],
   "source": [
    "solar_df.isnull().sum()"
   ]
  },
  {
   "cell_type": "code",
   "execution_count": 6,
   "metadata": {},
   "outputs": [
    {
     "data": {
      "text/html": [
       "<div>\n",
       "<style scoped>\n",
       "    .dataframe tbody tr th:only-of-type {\n",
       "        vertical-align: middle;\n",
       "    }\n",
       "\n",
       "    .dataframe tbody tr th {\n",
       "        vertical-align: top;\n",
       "    }\n",
       "\n",
       "    .dataframe thead th {\n",
       "        text-align: right;\n",
       "    }\n",
       "</style>\n",
       "<table border=\"1\" class=\"dataframe\">\n",
       "  <thead>\n",
       "    <tr style=\"text-align: right;\">\n",
       "      <th></th>\n",
       "      <th>duration.s</th>\n",
       "      <th>peak.c/s</th>\n",
       "      <th>total.counts</th>\n",
       "      <th>x.pos.asec</th>\n",
       "      <th>y.pos.asec</th>\n",
       "      <th>radial</th>\n",
       "    </tr>\n",
       "  </thead>\n",
       "  <tbody>\n",
       "    <tr>\n",
       "      <th>count</th>\n",
       "      <td>116143.000000</td>\n",
       "      <td>116143.000000</td>\n",
       "      <td>1.161430e+05</td>\n",
       "      <td>116143.000000</td>\n",
       "      <td>116143.000000</td>\n",
       "      <td>116143.000000</td>\n",
       "    </tr>\n",
       "    <tr>\n",
       "      <th>mean</th>\n",
       "      <td>493.643009</td>\n",
       "      <td>215.086617</td>\n",
       "      <td>3.768843e+05</td>\n",
       "      <td>-7.681625</td>\n",
       "      <td>-42.185495</td>\n",
       "      <td>687.896989</td>\n",
       "    </tr>\n",
       "    <tr>\n",
       "      <th>std</th>\n",
       "      <td>434.131763</td>\n",
       "      <td>839.382841</td>\n",
       "      <td>3.048797e+06</td>\n",
       "      <td>755.773503</td>\n",
       "      <td>401.904509</td>\n",
       "      <td>511.364382</td>\n",
       "    </tr>\n",
       "    <tr>\n",
       "      <th>min</th>\n",
       "      <td>8.000000</td>\n",
       "      <td>0.000000</td>\n",
       "      <td>8.000000e+00</td>\n",
       "      <td>-10012.000000</td>\n",
       "      <td>-10005.000000</td>\n",
       "      <td>0.000000</td>\n",
       "    </tr>\n",
       "    <tr>\n",
       "      <th>25%</th>\n",
       "      <td>212.000000</td>\n",
       "      <td>28.000000</td>\n",
       "      <td>2.284000e+04</td>\n",
       "      <td>-701.000000</td>\n",
       "      <td>-247.000000</td>\n",
       "      <td>467.000000</td>\n",
       "    </tr>\n",
       "    <tr>\n",
       "      <th>50%</th>\n",
       "      <td>364.000000</td>\n",
       "      <td>56.000000</td>\n",
       "      <td>5.856000e+04</td>\n",
       "      <td>0.000000</td>\n",
       "      <td>-71.000000</td>\n",
       "      <td>759.000000</td>\n",
       "    </tr>\n",
       "    <tr>\n",
       "      <th>75%</th>\n",
       "      <td>628.000000</td>\n",
       "      <td>144.000000</td>\n",
       "      <td>1.798080e+05</td>\n",
       "      <td>708.000000</td>\n",
       "      <td>198.000000</td>\n",
       "      <td>946.000000</td>\n",
       "    </tr>\n",
       "    <tr>\n",
       "      <th>max</th>\n",
       "      <td>4444.000000</td>\n",
       "      <td>113156.000000</td>\n",
       "      <td>4.355501e+08</td>\n",
       "      <td>1190.000000</td>\n",
       "      <td>1223.000000</td>\n",
       "      <td>14154.000000</td>\n",
       "    </tr>\n",
       "  </tbody>\n",
       "</table>\n",
       "</div>"
      ],
      "text/plain": [
       "          duration.s       peak.c/s  total.counts     x.pos.asec  \\\n",
       "count  116143.000000  116143.000000  1.161430e+05  116143.000000   \n",
       "mean      493.643009     215.086617  3.768843e+05      -7.681625   \n",
       "std       434.131763     839.382841  3.048797e+06     755.773503   \n",
       "min         8.000000       0.000000  8.000000e+00  -10012.000000   \n",
       "25%       212.000000      28.000000  2.284000e+04    -701.000000   \n",
       "50%       364.000000      56.000000  5.856000e+04       0.000000   \n",
       "75%       628.000000     144.000000  1.798080e+05     708.000000   \n",
       "max      4444.000000  113156.000000  4.355501e+08    1190.000000   \n",
       "\n",
       "          y.pos.asec         radial  \n",
       "count  116143.000000  116143.000000  \n",
       "mean      -42.185495     687.896989  \n",
       "std       401.904509     511.364382  \n",
       "min    -10005.000000       0.000000  \n",
       "25%      -247.000000     467.000000  \n",
       "50%       -71.000000     759.000000  \n",
       "75%       198.000000     946.000000  \n",
       "max      1223.000000   14154.000000  "
      ]
     },
     "execution_count": 6,
     "metadata": {},
     "output_type": "execute_result"
    }
   ],
   "source": [
    "solar_df.describe()"
   ]
  },
  {
   "cell_type": "markdown",
   "metadata": {},
   "source": [
    "### Parse data"
   ]
  },
  {
   "cell_type": "code",
   "execution_count": 7,
   "metadata": {},
   "outputs": [],
   "source": [
    "# parse date, time\n",
    "def parse_date(sdatex, stimex):\n",
    "        datex = datetime.strptime(sdatex, '%Y-%m-%d')\n",
    "        timex = datetime.strptime(stimex, '%H:%M:%S')\n",
    "        return datetime(datex.year,datex.month,datex.day,timex.hour,timex.minute,timex.second)"
   ]
  },
  {
   "cell_type": "code",
   "execution_count": 8,
   "metadata": {},
   "outputs": [],
   "source": [
    "# Adding year, month, day, start date, peak date, end date and dropping earlier columns\n",
    "solar_df['dt.start'] = solar_df[['start.date','start.time']].apply(lambda x: parse_date(x[0],x[1]), axis=1)\n",
    "solar_df['dt.peak'] = solar_df[['start.date','peak']].apply(lambda x: parse_date(x[0],x[1]), axis=1)\n",
    "solar_df['dt.end'] = solar_df[['start.date','end']].apply(lambda x: parse_date(x[0],x[1]), axis=1)\n",
    "\n",
    "solar_df.drop(['start.date','start.time','peak','end'], axis=1, inplace=True)\n",
    "\n",
    "# add new columns\n",
    "solar_df['year'] = solar_df['dt.start'].apply(lambda col: col.year)\n",
    "solar_df['month'] = solar_df['dt.start'].apply(lambda col: col.month)\n",
    "solar_df['day'] = solar_df['dt.start'].apply(lambda col: col.day)"
   ]
  },
  {
   "cell_type": "code",
   "execution_count": 9,
   "metadata": {},
   "outputs": [
    {
     "data": {
      "text/plain": [
       "Index(['duration.s', 'peak.c/s', 'total.counts', 'energy.kev', 'x.pos.asec',\n",
       "       'y.pos.asec', 'radial', 'dt.start', 'dt.peak', 'dt.end', 'year',\n",
       "       'month', 'day'],\n",
       "      dtype='object')"
      ]
     },
     "execution_count": 9,
     "metadata": {},
     "output_type": "execute_result"
    }
   ],
   "source": [
    "solar_df.columns"
   ]
  },
  {
   "cell_type": "code",
   "execution_count": 10,
   "metadata": {},
   "outputs": [],
   "source": [
    "solar_df = solar_df.rename(columns={'duration.s': 'duration', 'peak.c/s': 'peak_c_s', 'total.counts': 'total_counts', \n",
    "                                    'energy.kev': 'energy_kev', 'x.pos.asec': 'x_pos', 'y.pos.asec': 'y_pos', \n",
    "                                    'dt.start': 'date_start', 'dt.peak':'date_peak', 'dt.end': 'date_end'})"
   ]
  },
  {
   "cell_type": "code",
   "execution_count": 11,
   "metadata": {},
   "outputs": [
    {
     "data": {
      "text/plain": [
       "Index(['duration', 'peak_c_s', 'total_counts', 'energy_kev', 'x_pos', 'y_pos',\n",
       "       'radial', 'date_start', 'date_peak', 'date_end', 'year', 'month',\n",
       "       'day'],\n",
       "      dtype='object')"
      ]
     },
     "execution_count": 11,
     "metadata": {},
     "output_type": "execute_result"
    }
   ],
   "source": [
    "solar_df.columns"
   ]
  },
  {
   "cell_type": "code",
   "execution_count": 12,
   "metadata": {},
   "outputs": [
    {
     "data": {
      "text/html": [
       "<div>\n",
       "<style scoped>\n",
       "    .dataframe tbody tr th:only-of-type {\n",
       "        vertical-align: middle;\n",
       "    }\n",
       "\n",
       "    .dataframe tbody tr th {\n",
       "        vertical-align: top;\n",
       "    }\n",
       "\n",
       "    .dataframe thead th {\n",
       "        text-align: right;\n",
       "    }\n",
       "</style>\n",
       "<table border=\"1\" class=\"dataframe\">\n",
       "  <thead>\n",
       "    <tr style=\"text-align: right;\">\n",
       "      <th></th>\n",
       "      <th>duration</th>\n",
       "      <th>peak_c_s</th>\n",
       "      <th>total_counts</th>\n",
       "      <th>energy_kev</th>\n",
       "      <th>x_pos</th>\n",
       "      <th>y_pos</th>\n",
       "      <th>radial</th>\n",
       "      <th>date_start</th>\n",
       "      <th>date_peak</th>\n",
       "      <th>date_end</th>\n",
       "      <th>year</th>\n",
       "      <th>month</th>\n",
       "      <th>day</th>\n",
       "    </tr>\n",
       "    <tr>\n",
       "      <th>flare</th>\n",
       "      <th></th>\n",
       "      <th></th>\n",
       "      <th></th>\n",
       "      <th></th>\n",
       "      <th></th>\n",
       "      <th></th>\n",
       "      <th></th>\n",
       "      <th></th>\n",
       "      <th></th>\n",
       "      <th></th>\n",
       "      <th></th>\n",
       "      <th></th>\n",
       "      <th></th>\n",
       "    </tr>\n",
       "  </thead>\n",
       "  <tbody>\n",
       "    <tr>\n",
       "      <th>2021213</th>\n",
       "      <td>712</td>\n",
       "      <td>136</td>\n",
       "      <td>167304.0</td>\n",
       "      <td>12-25</td>\n",
       "      <td>592</td>\n",
       "      <td>-358</td>\n",
       "      <td>692</td>\n",
       "      <td>2002-02-12 21:29:56</td>\n",
       "      <td>2002-02-12 21:33:38</td>\n",
       "      <td>2002-02-12 21:41:48</td>\n",
       "      <td>2002</td>\n",
       "      <td>2</td>\n",
       "      <td>12</td>\n",
       "    </tr>\n",
       "    <tr>\n",
       "      <th>2021228</th>\n",
       "      <td>288</td>\n",
       "      <td>7</td>\n",
       "      <td>9504.0</td>\n",
       "      <td>6-12</td>\n",
       "      <td>604</td>\n",
       "      <td>-341</td>\n",
       "      <td>694</td>\n",
       "      <td>2002-02-12 21:44:08</td>\n",
       "      <td>2002-02-12 21:45:06</td>\n",
       "      <td>2002-02-12 21:48:56</td>\n",
       "      <td>2002</td>\n",
       "      <td>2</td>\n",
       "      <td>12</td>\n",
       "    </tr>\n",
       "    <tr>\n",
       "      <th>2021332</th>\n",
       "      <td>216</td>\n",
       "      <td>15</td>\n",
       "      <td>11448.0</td>\n",
       "      <td>6-12</td>\n",
       "      <td>-310</td>\n",
       "      <td>375</td>\n",
       "      <td>487</td>\n",
       "      <td>2002-02-13 00:53:24</td>\n",
       "      <td>2002-02-13 00:54:54</td>\n",
       "      <td>2002-02-13 00:57:00</td>\n",
       "      <td>2002</td>\n",
       "      <td>2</td>\n",
       "      <td>13</td>\n",
       "    </tr>\n",
       "    <tr>\n",
       "      <th>2021308</th>\n",
       "      <td>244</td>\n",
       "      <td>20</td>\n",
       "      <td>17400.0</td>\n",
       "      <td>12-25</td>\n",
       "      <td>-277</td>\n",
       "      <td>378</td>\n",
       "      <td>469</td>\n",
       "      <td>2002-02-13 04:22:52</td>\n",
       "      <td>2002-02-13 04:23:50</td>\n",
       "      <td>2002-02-13 04:26:56</td>\n",
       "      <td>2002</td>\n",
       "      <td>2</td>\n",
       "      <td>13</td>\n",
       "    </tr>\n",
       "    <tr>\n",
       "      <th>2021310</th>\n",
       "      <td>236</td>\n",
       "      <td>336</td>\n",
       "      <td>313392.0</td>\n",
       "      <td>25-50</td>\n",
       "      <td>-272</td>\n",
       "      <td>390</td>\n",
       "      <td>476</td>\n",
       "      <td>2002-02-13 07:03:52</td>\n",
       "      <td>2002-02-13 07:05:14</td>\n",
       "      <td>2002-02-13 07:07:48</td>\n",
       "      <td>2002</td>\n",
       "      <td>2</td>\n",
       "      <td>13</td>\n",
       "    </tr>\n",
       "    <tr>\n",
       "      <th>...</th>\n",
       "      <td>...</td>\n",
       "      <td>...</td>\n",
       "      <td>...</td>\n",
       "      <td>...</td>\n",
       "      <td>...</td>\n",
       "      <td>...</td>\n",
       "      <td>...</td>\n",
       "      <td>...</td>\n",
       "      <td>...</td>\n",
       "      <td>...</td>\n",
       "      <td>...</td>\n",
       "      <td>...</td>\n",
       "      <td>...</td>\n",
       "    </tr>\n",
       "    <tr>\n",
       "      <th>18020903</th>\n",
       "      <td>124</td>\n",
       "      <td>18</td>\n",
       "      <td>2888.0</td>\n",
       "      <td>6-12</td>\n",
       "      <td>-345</td>\n",
       "      <td>-38</td>\n",
       "      <td>347</td>\n",
       "      <td>2018-02-09 16:41:28</td>\n",
       "      <td>2018-02-09 16:42:54</td>\n",
       "      <td>2018-02-09 16:43:32</td>\n",
       "      <td>2018</td>\n",
       "      <td>2</td>\n",
       "      <td>9</td>\n",
       "    </tr>\n",
       "    <tr>\n",
       "      <th>18020904</th>\n",
       "      <td>104</td>\n",
       "      <td>16</td>\n",
       "      <td>1656.0</td>\n",
       "      <td>6-12</td>\n",
       "      <td>-268</td>\n",
       "      <td>-38</td>\n",
       "      <td>271</td>\n",
       "      <td>2018-02-09 18:15:56</td>\n",
       "      <td>2018-02-09 18:17:26</td>\n",
       "      <td>2018-02-09 18:17:40</td>\n",
       "      <td>2018</td>\n",
       "      <td>2</td>\n",
       "      <td>9</td>\n",
       "    </tr>\n",
       "    <tr>\n",
       "      <th>18021001</th>\n",
       "      <td>148</td>\n",
       "      <td>15</td>\n",
       "      <td>2224.0</td>\n",
       "      <td>6-12</td>\n",
       "      <td>-115</td>\n",
       "      <td>-38</td>\n",
       "      <td>121</td>\n",
       "      <td>2018-02-10 13:04:36</td>\n",
       "      <td>2018-02-10 13:06:46</td>\n",
       "      <td>2018-02-10 13:07:04</td>\n",
       "      <td>2018</td>\n",
       "      <td>2</td>\n",
       "      <td>10</td>\n",
       "    </tr>\n",
       "    <tr>\n",
       "      <th>18022601</th>\n",
       "      <td>236</td>\n",
       "      <td>16</td>\n",
       "      <td>3312.0</td>\n",
       "      <td>6-12</td>\n",
       "      <td>115</td>\n",
       "      <td>192</td>\n",
       "      <td>223</td>\n",
       "      <td>2018-02-26 15:49:56</td>\n",
       "      <td>2018-02-26 15:51:18</td>\n",
       "      <td>2018-02-26 15:53:52</td>\n",
       "      <td>2018</td>\n",
       "      <td>2</td>\n",
       "      <td>26</td>\n",
       "    </tr>\n",
       "    <tr>\n",
       "      <th>18030301</th>\n",
       "      <td>492</td>\n",
       "      <td>42</td>\n",
       "      <td>15816.0</td>\n",
       "      <td>6-12</td>\n",
       "      <td>926</td>\n",
       "      <td>128</td>\n",
       "      <td>935</td>\n",
       "      <td>2018-03-03 04:04:08</td>\n",
       "      <td>2018-03-03 04:06:22</td>\n",
       "      <td>2018-03-03 04:12:20</td>\n",
       "      <td>2018</td>\n",
       "      <td>3</td>\n",
       "      <td>3</td>\n",
       "    </tr>\n",
       "  </tbody>\n",
       "</table>\n",
       "<p>116143 rows × 13 columns</p>\n",
       "</div>"
      ],
      "text/plain": [
       "          duration  peak_c_s  total_counts energy_kev  x_pos  y_pos  radial  \\\n",
       "flare                                                                         \n",
       "2021213        712       136      167304.0      12-25    592   -358     692   \n",
       "2021228        288         7        9504.0       6-12    604   -341     694   \n",
       "2021332        216        15       11448.0       6-12   -310    375     487   \n",
       "2021308        244        20       17400.0      12-25   -277    378     469   \n",
       "2021310        236       336      313392.0      25-50   -272    390     476   \n",
       "...            ...       ...           ...        ...    ...    ...     ...   \n",
       "18020903       124        18        2888.0       6-12   -345    -38     347   \n",
       "18020904       104        16        1656.0       6-12   -268    -38     271   \n",
       "18021001       148        15        2224.0       6-12   -115    -38     121   \n",
       "18022601       236        16        3312.0       6-12    115    192     223   \n",
       "18030301       492        42       15816.0       6-12    926    128     935   \n",
       "\n",
       "                  date_start           date_peak            date_end  year  \\\n",
       "flare                                                                        \n",
       "2021213  2002-02-12 21:29:56 2002-02-12 21:33:38 2002-02-12 21:41:48  2002   \n",
       "2021228  2002-02-12 21:44:08 2002-02-12 21:45:06 2002-02-12 21:48:56  2002   \n",
       "2021332  2002-02-13 00:53:24 2002-02-13 00:54:54 2002-02-13 00:57:00  2002   \n",
       "2021308  2002-02-13 04:22:52 2002-02-13 04:23:50 2002-02-13 04:26:56  2002   \n",
       "2021310  2002-02-13 07:03:52 2002-02-13 07:05:14 2002-02-13 07:07:48  2002   \n",
       "...                      ...                 ...                 ...   ...   \n",
       "18020903 2018-02-09 16:41:28 2018-02-09 16:42:54 2018-02-09 16:43:32  2018   \n",
       "18020904 2018-02-09 18:15:56 2018-02-09 18:17:26 2018-02-09 18:17:40  2018   \n",
       "18021001 2018-02-10 13:04:36 2018-02-10 13:06:46 2018-02-10 13:07:04  2018   \n",
       "18022601 2018-02-26 15:49:56 2018-02-26 15:51:18 2018-02-26 15:53:52  2018   \n",
       "18030301 2018-03-03 04:04:08 2018-03-03 04:06:22 2018-03-03 04:12:20  2018   \n",
       "\n",
       "          month  day  \n",
       "flare                 \n",
       "2021213       2   12  \n",
       "2021228       2   12  \n",
       "2021332       2   13  \n",
       "2021308       2   13  \n",
       "2021310       2   13  \n",
       "...         ...  ...  \n",
       "18020903      2    9  \n",
       "18020904      2    9  \n",
       "18021001      2   10  \n",
       "18022601      2   26  \n",
       "18030301      3    3  \n",
       "\n",
       "[116143 rows x 13 columns]"
      ]
     },
     "execution_count": 12,
     "metadata": {},
     "output_type": "execute_result"
    }
   ],
   "source": [
    "solar_df"
   ]
  },
  {
   "cell_type": "code",
   "execution_count": 13,
   "metadata": {},
   "outputs": [
    {
     "data": {
      "text/plain": [
       "{0: '100-300',\n",
       " 1: '12-25',\n",
       " 2: '25-50',\n",
       " 3: '3-6',\n",
       " 4: '300-800',\n",
       " 5: '50-100',\n",
       " 6: '6-12',\n",
       " 7: '7000-20000',\n",
       " 8: '800-7000'}"
      ]
     },
     "execution_count": 13,
     "metadata": {},
     "output_type": "execute_result"
    }
   ],
   "source": [
    "# Enumerating energy range values from str to category\n",
    "dt = solar_df['energy_kev'].astype('category')\n",
    "dict(enumerate((dt.cat.categories)))"
   ]
  },
  {
   "cell_type": "code",
   "execution_count": 75,
   "metadata": {},
   "outputs": [],
   "source": [
    "# Assigning the enumerated codes to ernegy column\n",
    "solar_df['energy_kev'] = dt.cat.codes"
   ]
  },
  {
   "cell_type": "code",
   "execution_count": 76,
   "metadata": {},
   "outputs": [
    {
     "data": {
      "text/html": [
       "<div>\n",
       "<style scoped>\n",
       "    .dataframe tbody tr th:only-of-type {\n",
       "        vertical-align: middle;\n",
       "    }\n",
       "\n",
       "    .dataframe tbody tr th {\n",
       "        vertical-align: top;\n",
       "    }\n",
       "\n",
       "    .dataframe thead th {\n",
       "        text-align: right;\n",
       "    }\n",
       "</style>\n",
       "<table border=\"1\" class=\"dataframe\">\n",
       "  <thead>\n",
       "    <tr style=\"text-align: right;\">\n",
       "      <th></th>\n",
       "      <th>duration</th>\n",
       "      <th>peak_c_s</th>\n",
       "      <th>total_counts</th>\n",
       "      <th>energy_kev</th>\n",
       "      <th>x_pos</th>\n",
       "      <th>y_pos</th>\n",
       "      <th>radial</th>\n",
       "      <th>date_start</th>\n",
       "      <th>date_peak</th>\n",
       "      <th>date_end</th>\n",
       "      <th>year</th>\n",
       "      <th>month</th>\n",
       "      <th>day</th>\n",
       "    </tr>\n",
       "    <tr>\n",
       "      <th>flare</th>\n",
       "      <th></th>\n",
       "      <th></th>\n",
       "      <th></th>\n",
       "      <th></th>\n",
       "      <th></th>\n",
       "      <th></th>\n",
       "      <th></th>\n",
       "      <th></th>\n",
       "      <th></th>\n",
       "      <th></th>\n",
       "      <th></th>\n",
       "      <th></th>\n",
       "      <th></th>\n",
       "    </tr>\n",
       "  </thead>\n",
       "  <tbody>\n",
       "    <tr>\n",
       "      <th>2021213</th>\n",
       "      <td>712</td>\n",
       "      <td>136</td>\n",
       "      <td>167304.0</td>\n",
       "      <td>1</td>\n",
       "      <td>592</td>\n",
       "      <td>-358</td>\n",
       "      <td>692</td>\n",
       "      <td>2002-02-12 21:29:56</td>\n",
       "      <td>2002-02-12 21:33:38</td>\n",
       "      <td>2002-02-12 21:41:48</td>\n",
       "      <td>2002</td>\n",
       "      <td>2</td>\n",
       "      <td>12</td>\n",
       "    </tr>\n",
       "    <tr>\n",
       "      <th>2021228</th>\n",
       "      <td>288</td>\n",
       "      <td>7</td>\n",
       "      <td>9504.0</td>\n",
       "      <td>6</td>\n",
       "      <td>604</td>\n",
       "      <td>-341</td>\n",
       "      <td>694</td>\n",
       "      <td>2002-02-12 21:44:08</td>\n",
       "      <td>2002-02-12 21:45:06</td>\n",
       "      <td>2002-02-12 21:48:56</td>\n",
       "      <td>2002</td>\n",
       "      <td>2</td>\n",
       "      <td>12</td>\n",
       "    </tr>\n",
       "    <tr>\n",
       "      <th>2021332</th>\n",
       "      <td>216</td>\n",
       "      <td>15</td>\n",
       "      <td>11448.0</td>\n",
       "      <td>6</td>\n",
       "      <td>-310</td>\n",
       "      <td>375</td>\n",
       "      <td>487</td>\n",
       "      <td>2002-02-13 00:53:24</td>\n",
       "      <td>2002-02-13 00:54:54</td>\n",
       "      <td>2002-02-13 00:57:00</td>\n",
       "      <td>2002</td>\n",
       "      <td>2</td>\n",
       "      <td>13</td>\n",
       "    </tr>\n",
       "    <tr>\n",
       "      <th>2021308</th>\n",
       "      <td>244</td>\n",
       "      <td>20</td>\n",
       "      <td>17400.0</td>\n",
       "      <td>1</td>\n",
       "      <td>-277</td>\n",
       "      <td>378</td>\n",
       "      <td>469</td>\n",
       "      <td>2002-02-13 04:22:52</td>\n",
       "      <td>2002-02-13 04:23:50</td>\n",
       "      <td>2002-02-13 04:26:56</td>\n",
       "      <td>2002</td>\n",
       "      <td>2</td>\n",
       "      <td>13</td>\n",
       "    </tr>\n",
       "    <tr>\n",
       "      <th>2021310</th>\n",
       "      <td>236</td>\n",
       "      <td>336</td>\n",
       "      <td>313392.0</td>\n",
       "      <td>2</td>\n",
       "      <td>-272</td>\n",
       "      <td>390</td>\n",
       "      <td>476</td>\n",
       "      <td>2002-02-13 07:03:52</td>\n",
       "      <td>2002-02-13 07:05:14</td>\n",
       "      <td>2002-02-13 07:07:48</td>\n",
       "      <td>2002</td>\n",
       "      <td>2</td>\n",
       "      <td>13</td>\n",
       "    </tr>\n",
       "  </tbody>\n",
       "</table>\n",
       "</div>"
      ],
      "text/plain": [
       "         duration  peak_c_s  total_counts  energy_kev  x_pos  y_pos  radial  \\\n",
       "flare                                                                         \n",
       "2021213       712       136      167304.0           1    592   -358     692   \n",
       "2021228       288         7        9504.0           6    604   -341     694   \n",
       "2021332       216        15       11448.0           6   -310    375     487   \n",
       "2021308       244        20       17400.0           1   -277    378     469   \n",
       "2021310       236       336      313392.0           2   -272    390     476   \n",
       "\n",
       "                 date_start           date_peak            date_end  year  \\\n",
       "flare                                                                       \n",
       "2021213 2002-02-12 21:29:56 2002-02-12 21:33:38 2002-02-12 21:41:48  2002   \n",
       "2021228 2002-02-12 21:44:08 2002-02-12 21:45:06 2002-02-12 21:48:56  2002   \n",
       "2021332 2002-02-13 00:53:24 2002-02-13 00:54:54 2002-02-13 00:57:00  2002   \n",
       "2021308 2002-02-13 04:22:52 2002-02-13 04:23:50 2002-02-13 04:26:56  2002   \n",
       "2021310 2002-02-13 07:03:52 2002-02-13 07:05:14 2002-02-13 07:07:48  2002   \n",
       "\n",
       "         month  day  \n",
       "flare                \n",
       "2021213      2   12  \n",
       "2021228      2   12  \n",
       "2021332      2   13  \n",
       "2021308      2   13  \n",
       "2021310      2   13  "
      ]
     },
     "execution_count": 76,
     "metadata": {},
     "output_type": "execute_result"
    }
   ],
   "source": [
    "solar_df.head(5)"
   ]
  },
  {
   "cell_type": "code",
   "execution_count": 77,
   "metadata": {},
   "outputs": [
    {
     "data": {
      "text/plain": [
       "duration                 int64\n",
       "peak_c_s                 int64\n",
       "total_counts           float64\n",
       "energy_kev                int8\n",
       "x_pos                    int64\n",
       "y_pos                    int64\n",
       "radial                   int64\n",
       "date_start      datetime64[ns]\n",
       "date_peak       datetime64[ns]\n",
       "date_end        datetime64[ns]\n",
       "year                     int64\n",
       "month                    int64\n",
       "day                      int64\n",
       "dtype: object"
      ]
     },
     "execution_count": 77,
     "metadata": {},
     "output_type": "execute_result"
    }
   ],
   "source": [
    "solar_df.dtypes"
   ]
  },
  {
   "cell_type": "markdown",
   "metadata": {},
   "source": [
    "### Create Train/Test Set"
   ]
  },
  {
   "cell_type": "code",
   "execution_count": 24,
   "metadata": {},
   "outputs": [],
   "source": [
    "pd_df = solar_df.copy(deep=True)\n",
    "pd_df['total_counts'] = pd_df['total_counts'].astype(int)"
   ]
  },
  {
   "cell_type": "code",
   "execution_count": 25,
   "metadata": {},
   "outputs": [
    {
     "data": {
      "text/plain": [
       "duration                 int64\n",
       "peak_c_s                 int64\n",
       "total_counts             int64\n",
       "energy_kev              object\n",
       "x_pos                    int64\n",
       "y_pos                    int64\n",
       "radial                   int64\n",
       "date_start      datetime64[ns]\n",
       "date_peak       datetime64[ns]\n",
       "date_end        datetime64[ns]\n",
       "year                     int64\n",
       "month                    int64\n",
       "day                      int64\n",
       "dtype: object"
      ]
     },
     "execution_count": 25,
     "metadata": {},
     "output_type": "execute_result"
    }
   ],
   "source": [
    "pd_df.dtypes"
   ]
  },
  {
   "cell_type": "code",
   "execution_count": 26,
   "metadata": {},
   "outputs": [],
   "source": [
    "pd_df = pd_df.drop(['date_start', 'date_peak', 'date_end'], axis=1)"
   ]
  },
  {
   "cell_type": "code",
   "execution_count": 27,
   "metadata": {},
   "outputs": [
    {
     "name": "stdout",
     "output_type": "stream",
     "text": [
      "<class 'pandas.core.frame.DataFrame'>\n",
      "Int64Index: 116143 entries, 2021213 to 18030301\n",
      "Data columns (total 10 columns):\n",
      " #   Column        Non-Null Count   Dtype \n",
      "---  ------        --------------   ----- \n",
      " 0   duration      116143 non-null  int64 \n",
      " 1   peak_c_s      116143 non-null  int64 \n",
      " 2   total_counts  116143 non-null  int64 \n",
      " 3   energy_kev    116143 non-null  object\n",
      " 4   x_pos         116143 non-null  int64 \n",
      " 5   y_pos         116143 non-null  int64 \n",
      " 6   radial        116143 non-null  int64 \n",
      " 7   year          116143 non-null  int64 \n",
      " 8   month         116143 non-null  int64 \n",
      " 9   day           116143 non-null  int64 \n",
      "dtypes: int64(9), object(1)\n",
      "memory usage: 9.7+ MB\n"
     ]
    }
   ],
   "source": [
    "pd_df.info()"
   ]
  },
  {
   "cell_type": "code",
   "execution_count": 28,
   "metadata": {},
   "outputs": [],
   "source": [
    "from sklearn.model_selection import train_test_split\n",
    "X_train, X_test = train_test_split(pd_df, test_size=0.25)"
   ]
  },
  {
   "cell_type": "code",
   "execution_count": 29,
   "metadata": {},
   "outputs": [
    {
     "data": {
      "text/plain": [
       "((87107, 10), (29036, 10))"
      ]
     },
     "execution_count": 29,
     "metadata": {},
     "output_type": "execute_result"
    }
   ],
   "source": [
    "X_train.shape, X_test.shape"
   ]
  },
  {
   "cell_type": "code",
   "execution_count": 30,
   "metadata": {},
   "outputs": [],
   "source": [
    "y_train = X_train['energy_kev']\n",
    "X_train = X_train.drop(['energy_kev'], axis=1)\n",
    "\n",
    "y_test = X_test['energy_kev']\n",
    "X_test = X_test.drop(['energy_kev'], axis=1)"
   ]
  },
  {
   "cell_type": "markdown",
   "metadata": {},
   "source": [
    "### Prediction"
   ]
  },
  {
   "cell_type": "code",
   "execution_count": 31,
   "metadata": {},
   "outputs": [
    {
     "ename": "ValueError",
     "evalue": "could not convert string to float: '12-25'",
     "output_type": "error",
     "traceback": [
      "\u001b[0;31m---------------------------------------------------------------------------\u001b[0m",
      "\u001b[0;31mValueError\u001b[0m                                Traceback (most recent call last)",
      "\u001b[0;32m/var/folders/hh/9cspm3f51gs23wjz70pl3sv40000gn/T/ipykernel_4052/1333525217.py\u001b[0m in \u001b[0;36m<module>\u001b[0;34m\u001b[0m\n\u001b[1;32m      1\u001b[0m \u001b[0;31m# Linear Regression\u001b[0m\u001b[0;34m\u001b[0m\u001b[0;34m\u001b[0m\u001b[0m\n\u001b[1;32m      2\u001b[0m \u001b[0;32mfrom\u001b[0m \u001b[0msklearn\u001b[0m\u001b[0;34m.\u001b[0m\u001b[0mlinear_model\u001b[0m \u001b[0;32mimport\u001b[0m \u001b[0mLinearRegression\u001b[0m\u001b[0;34m\u001b[0m\u001b[0;34m\u001b[0m\u001b[0m\n\u001b[0;32m----> 3\u001b[0;31m \u001b[0mlinear_regression\u001b[0m \u001b[0;34m=\u001b[0m \u001b[0mLinearRegression\u001b[0m\u001b[0;34m(\u001b[0m\u001b[0;34m)\u001b[0m\u001b[0;34m.\u001b[0m\u001b[0mfit\u001b[0m\u001b[0;34m(\u001b[0m\u001b[0mX_train\u001b[0m\u001b[0;34m,\u001b[0m \u001b[0my_train\u001b[0m\u001b[0;34m)\u001b[0m\u001b[0;34m\u001b[0m\u001b[0;34m\u001b[0m\u001b[0m\n\u001b[0m\u001b[1;32m      4\u001b[0m \u001b[0mlinear_regression_predictions\u001b[0m \u001b[0;34m=\u001b[0m \u001b[0mlinear_regression\u001b[0m\u001b[0;34m.\u001b[0m\u001b[0mpredict\u001b[0m\u001b[0;34m(\u001b[0m\u001b[0mX_test\u001b[0m\u001b[0;34m)\u001b[0m\u001b[0;34m\u001b[0m\u001b[0;34m\u001b[0m\u001b[0m\n\u001b[1;32m      5\u001b[0m \u001b[0mlinear_regression_score\u001b[0m \u001b[0;34m=\u001b[0m \u001b[0mlinear_regression\u001b[0m\u001b[0;34m.\u001b[0m\u001b[0mscore\u001b[0m\u001b[0;34m(\u001b[0m\u001b[0mX_test\u001b[0m\u001b[0;34m,\u001b[0m \u001b[0my_test\u001b[0m\u001b[0;34m)\u001b[0m\u001b[0;34m\u001b[0m\u001b[0;34m\u001b[0m\u001b[0m\n",
      "\u001b[0;32m/opt/homebrew/Caskroom/miniforge/base/envs/cse258/lib/python3.9/site-packages/sklearn/linear_model/_base.py\u001b[0m in \u001b[0;36mfit\u001b[0;34m(self, X, y, sample_weight)\u001b[0m\n\u001b[1;32m    660\u001b[0m         \u001b[0maccept_sparse\u001b[0m \u001b[0;34m=\u001b[0m \u001b[0;32mFalse\u001b[0m \u001b[0;32mif\u001b[0m \u001b[0mself\u001b[0m\u001b[0;34m.\u001b[0m\u001b[0mpositive\u001b[0m \u001b[0;32melse\u001b[0m \u001b[0;34m[\u001b[0m\u001b[0;34m\"csr\"\u001b[0m\u001b[0;34m,\u001b[0m \u001b[0;34m\"csc\"\u001b[0m\u001b[0;34m,\u001b[0m \u001b[0;34m\"coo\"\u001b[0m\u001b[0;34m]\u001b[0m\u001b[0;34m\u001b[0m\u001b[0;34m\u001b[0m\u001b[0m\n\u001b[1;32m    661\u001b[0m \u001b[0;34m\u001b[0m\u001b[0m\n\u001b[0;32m--> 662\u001b[0;31m         X, y = self._validate_data(\n\u001b[0m\u001b[1;32m    663\u001b[0m             \u001b[0mX\u001b[0m\u001b[0;34m,\u001b[0m \u001b[0my\u001b[0m\u001b[0;34m,\u001b[0m \u001b[0maccept_sparse\u001b[0m\u001b[0;34m=\u001b[0m\u001b[0maccept_sparse\u001b[0m\u001b[0;34m,\u001b[0m \u001b[0my_numeric\u001b[0m\u001b[0;34m=\u001b[0m\u001b[0;32mTrue\u001b[0m\u001b[0;34m,\u001b[0m \u001b[0mmulti_output\u001b[0m\u001b[0;34m=\u001b[0m\u001b[0;32mTrue\u001b[0m\u001b[0;34m\u001b[0m\u001b[0;34m\u001b[0m\u001b[0m\n\u001b[1;32m    664\u001b[0m         )\n",
      "\u001b[0;32m/opt/homebrew/Caskroom/miniforge/base/envs/cse258/lib/python3.9/site-packages/sklearn/base.py\u001b[0m in \u001b[0;36m_validate_data\u001b[0;34m(self, X, y, reset, validate_separately, **check_params)\u001b[0m\n\u001b[1;32m    574\u001b[0m                 \u001b[0my\u001b[0m \u001b[0;34m=\u001b[0m \u001b[0mcheck_array\u001b[0m\u001b[0;34m(\u001b[0m\u001b[0my\u001b[0m\u001b[0;34m,\u001b[0m \u001b[0;34m**\u001b[0m\u001b[0mcheck_y_params\u001b[0m\u001b[0;34m)\u001b[0m\u001b[0;34m\u001b[0m\u001b[0;34m\u001b[0m\u001b[0m\n\u001b[1;32m    575\u001b[0m             \u001b[0;32melse\u001b[0m\u001b[0;34m:\u001b[0m\u001b[0;34m\u001b[0m\u001b[0;34m\u001b[0m\u001b[0m\n\u001b[0;32m--> 576\u001b[0;31m                 \u001b[0mX\u001b[0m\u001b[0;34m,\u001b[0m \u001b[0my\u001b[0m \u001b[0;34m=\u001b[0m \u001b[0mcheck_X_y\u001b[0m\u001b[0;34m(\u001b[0m\u001b[0mX\u001b[0m\u001b[0;34m,\u001b[0m \u001b[0my\u001b[0m\u001b[0;34m,\u001b[0m \u001b[0;34m**\u001b[0m\u001b[0mcheck_params\u001b[0m\u001b[0;34m)\u001b[0m\u001b[0;34m\u001b[0m\u001b[0;34m\u001b[0m\u001b[0m\n\u001b[0m\u001b[1;32m    577\u001b[0m             \u001b[0mout\u001b[0m \u001b[0;34m=\u001b[0m \u001b[0mX\u001b[0m\u001b[0;34m,\u001b[0m \u001b[0my\u001b[0m\u001b[0;34m\u001b[0m\u001b[0;34m\u001b[0m\u001b[0m\n\u001b[1;32m    578\u001b[0m \u001b[0;34m\u001b[0m\u001b[0m\n",
      "\u001b[0;32m/opt/homebrew/Caskroom/miniforge/base/envs/cse258/lib/python3.9/site-packages/sklearn/utils/validation.py\u001b[0m in \u001b[0;36mcheck_X_y\u001b[0;34m(X, y, accept_sparse, accept_large_sparse, dtype, order, copy, force_all_finite, ensure_2d, allow_nd, multi_output, ensure_min_samples, ensure_min_features, y_numeric, estimator)\u001b[0m\n\u001b[1;32m    969\u001b[0m     )\n\u001b[1;32m    970\u001b[0m \u001b[0;34m\u001b[0m\u001b[0m\n\u001b[0;32m--> 971\u001b[0;31m     \u001b[0my\u001b[0m \u001b[0;34m=\u001b[0m \u001b[0m_check_y\u001b[0m\u001b[0;34m(\u001b[0m\u001b[0my\u001b[0m\u001b[0;34m,\u001b[0m \u001b[0mmulti_output\u001b[0m\u001b[0;34m=\u001b[0m\u001b[0mmulti_output\u001b[0m\u001b[0;34m,\u001b[0m \u001b[0my_numeric\u001b[0m\u001b[0;34m=\u001b[0m\u001b[0my_numeric\u001b[0m\u001b[0;34m)\u001b[0m\u001b[0;34m\u001b[0m\u001b[0;34m\u001b[0m\u001b[0m\n\u001b[0m\u001b[1;32m    972\u001b[0m \u001b[0;34m\u001b[0m\u001b[0m\n\u001b[1;32m    973\u001b[0m     \u001b[0mcheck_consistent_length\u001b[0m\u001b[0;34m(\u001b[0m\u001b[0mX\u001b[0m\u001b[0;34m,\u001b[0m \u001b[0my\u001b[0m\u001b[0;34m)\u001b[0m\u001b[0;34m\u001b[0m\u001b[0;34m\u001b[0m\u001b[0m\n",
      "\u001b[0;32m/opt/homebrew/Caskroom/miniforge/base/envs/cse258/lib/python3.9/site-packages/sklearn/utils/validation.py\u001b[0m in \u001b[0;36m_check_y\u001b[0;34m(y, multi_output, y_numeric)\u001b[0m\n\u001b[1;32m    987\u001b[0m         \u001b[0m_ensure_no_complex_data\u001b[0m\u001b[0;34m(\u001b[0m\u001b[0my\u001b[0m\u001b[0;34m)\u001b[0m\u001b[0;34m\u001b[0m\u001b[0;34m\u001b[0m\u001b[0m\n\u001b[1;32m    988\u001b[0m     \u001b[0;32mif\u001b[0m \u001b[0my_numeric\u001b[0m \u001b[0;32mand\u001b[0m \u001b[0my\u001b[0m\u001b[0;34m.\u001b[0m\u001b[0mdtype\u001b[0m\u001b[0;34m.\u001b[0m\u001b[0mkind\u001b[0m \u001b[0;34m==\u001b[0m \u001b[0;34m\"O\"\u001b[0m\u001b[0;34m:\u001b[0m\u001b[0;34m\u001b[0m\u001b[0;34m\u001b[0m\u001b[0m\n\u001b[0;32m--> 989\u001b[0;31m         \u001b[0my\u001b[0m \u001b[0;34m=\u001b[0m \u001b[0my\u001b[0m\u001b[0;34m.\u001b[0m\u001b[0mastype\u001b[0m\u001b[0;34m(\u001b[0m\u001b[0mnp\u001b[0m\u001b[0;34m.\u001b[0m\u001b[0mfloat64\u001b[0m\u001b[0;34m)\u001b[0m\u001b[0;34m\u001b[0m\u001b[0;34m\u001b[0m\u001b[0m\n\u001b[0m\u001b[1;32m    990\u001b[0m \u001b[0;34m\u001b[0m\u001b[0m\n\u001b[1;32m    991\u001b[0m     \u001b[0;32mreturn\u001b[0m \u001b[0my\u001b[0m\u001b[0;34m\u001b[0m\u001b[0;34m\u001b[0m\u001b[0m\n",
      "\u001b[0;31mValueError\u001b[0m: could not convert string to float: '12-25'"
     ]
    }
   ],
   "source": [
    "# Linear Regression\n",
    "from sklearn.linear_model import LinearRegression\n",
    "linear_regression = LinearRegression().fit(X_train, y_train)\n",
    "linear_regression_predictions = linear_regression.predict(X_test)\n",
    "linear_regression_score = linear_regression.score(X_test, y_test)\n",
    "linear_regression_score_train = linear_regression.score(X_train, y_train)\n",
    "linear_regression_score, linear_regression_score_train"
   ]
  },
  {
   "cell_type": "code",
   "execution_count": 99,
   "metadata": {},
   "outputs": [
    {
     "name": "stderr",
     "output_type": "stream",
     "text": [
      "/opt/homebrew/Caskroom/miniforge/base/envs/cse258/lib/python3.9/site-packages/sklearn/linear_model/_logistic.py:814: ConvergenceWarning: lbfgs failed to converge (status=1):\n",
      "STOP: TOTAL NO. of ITERATIONS REACHED LIMIT.\n",
      "\n",
      "Increase the number of iterations (max_iter) or scale the data as shown in:\n",
      "    https://scikit-learn.org/stable/modules/preprocessing.html\n",
      "Please also refer to the documentation for alternative solver options:\n",
      "    https://scikit-learn.org/stable/modules/linear_model.html#logistic-regression\n",
      "  n_iter_i = _check_optimize_result(\n"
     ]
    },
    {
     "data": {
      "text/plain": [
       "(0.7762777242044359, 0.7749893808763934)"
      ]
     },
     "execution_count": 99,
     "metadata": {},
     "output_type": "execute_result"
    }
   ],
   "source": [
    "# Logistic Regression\n",
    "from sklearn.linear_model import LogisticRegression\n",
    "logistic_regression = LogisticRegression().fit(X_train, y_train)\n",
    "logistic_regression_predictions = logistic_regression.predict(X_test)\n",
    "logistic_regression_score = logistic_regression.score(X_test, y_test)\n",
    "logistic_regression_score_train = logistic_regression.score(X_train, y_train)\n",
    "logistic_regression_score, logistic_regression_score_train"
   ]
  },
  {
   "cell_type": "code",
   "execution_count": 100,
   "metadata": {},
   "outputs": [
    {
     "name": "stdout",
     "output_type": "stream",
     "text": [
      "\n",
      "Report on data set:\n",
      "              precision    recall  f1-score   support\n",
      "\n",
      "           0       0.00      0.00      0.00        54\n",
      "           1       0.60      0.23      0.33      4844\n",
      "           2       0.32      0.02      0.03       518\n",
      "           3       0.00      0.00      0.00      1717\n",
      "           4       0.00      0.00      0.00         5\n",
      "           5       0.00      0.00      0.00       123\n",
      "           6       0.79      0.98      0.88     21774\n",
      "           7       0.00      0.00      0.00         1\n",
      "\n",
      "    accuracy                           0.78     29036\n",
      "   macro avg       0.21      0.15      0.15     29036\n",
      "weighted avg       0.70      0.78      0.71     29036\n",
      "\n",
      "(0.7762777242044359, 0.7762777242044359, 0.7762777242044359, None)\n"
     ]
    },
    {
     "name": "stderr",
     "output_type": "stream",
     "text": [
      "/opt/homebrew/Caskroom/miniforge/base/envs/cse258/lib/python3.9/site-packages/sklearn/metrics/_classification.py:1308: UndefinedMetricWarning: Precision and F-score are ill-defined and being set to 0.0 in labels with no predicted samples. Use `zero_division` parameter to control this behavior.\n",
      "  _warn_prf(average, modifier, msg_start, len(result))\n",
      "/opt/homebrew/Caskroom/miniforge/base/envs/cse258/lib/python3.9/site-packages/sklearn/metrics/_classification.py:1308: UndefinedMetricWarning: Precision and F-score are ill-defined and being set to 0.0 in labels with no predicted samples. Use `zero_division` parameter to control this behavior.\n",
      "  _warn_prf(average, modifier, msg_start, len(result))\n",
      "/opt/homebrew/Caskroom/miniforge/base/envs/cse258/lib/python3.9/site-packages/sklearn/metrics/_classification.py:1308: UndefinedMetricWarning: Precision and F-score are ill-defined and being set to 0.0 in labels with no predicted samples. Use `zero_division` parameter to control this behavior.\n",
      "  _warn_prf(average, modifier, msg_start, len(result))\n"
     ]
    }
   ],
   "source": [
    "from sklearn import metrics\n",
    "print ('\\nReport on data set:')\n",
    "print(metrics.classification_report(y_test, logistic_regression_predictions))\n",
    "print(metrics.precision_recall_fscore_support(y_test, logistic_regression_predictions, average='micro'))"
   ]
  },
  {
   "cell_type": "code",
   "execution_count": 101,
   "metadata": {},
   "outputs": [
    {
     "data": {
      "text/plain": [
       "(0.8135418101666896, 1.0)"
      ]
     },
     "execution_count": 101,
     "metadata": {},
     "output_type": "execute_result"
    }
   ],
   "source": [
    "# Decision Tree Classifier\n",
    "from sklearn.tree import DecisionTreeClassifier\n",
    "decision_tree_classifier = DecisionTreeClassifier().fit(X_train, y_train)\n",
    "decision_tree_predictions = decision_tree_classifier.predict(X_test)\n",
    "decision_tree_score = decision_tree_classifier.score(X_test, y_test)\n",
    "decision_tree_score_train = decision_tree_classifier.score(X_train, y_train)\n",
    "decision_tree_score, decision_tree_score_train"
   ]
  },
  {
   "cell_type": "code",
   "execution_count": 102,
   "metadata": {},
   "outputs": [
    {
     "name": "stdout",
     "output_type": "stream",
     "text": [
      "\n",
      "Report on data set:\n",
      "              precision    recall  f1-score   support\n",
      "\n",
      "           0       0.12      0.11      0.12        54\n",
      "           1       0.50      0.51      0.51      4844\n",
      "           2       0.11      0.12      0.12       518\n",
      "           3       1.00      1.00      1.00      1717\n",
      "           4       0.00      0.00      0.00         5\n",
      "           5       0.13      0.15      0.14       123\n",
      "           6       0.90      0.89      0.89     21774\n",
      "           7       0.00      0.00      0.00         1\n",
      "           8       0.00      0.00      0.00         0\n",
      "\n",
      "    accuracy                           0.81     29036\n",
      "   macro avg       0.31      0.31      0.31     29036\n",
      "weighted avg       0.82      0.81      0.82     29036\n",
      "\n",
      "(0.8135418101666896, 0.8135418101666896, 0.8135418101666896, None)\n"
     ]
    },
    {
     "name": "stderr",
     "output_type": "stream",
     "text": [
      "/opt/homebrew/Caskroom/miniforge/base/envs/cse258/lib/python3.9/site-packages/sklearn/metrics/_classification.py:1308: UndefinedMetricWarning: Precision and F-score are ill-defined and being set to 0.0 in labels with no predicted samples. Use `zero_division` parameter to control this behavior.\n",
      "  _warn_prf(average, modifier, msg_start, len(result))\n",
      "/opt/homebrew/Caskroom/miniforge/base/envs/cse258/lib/python3.9/site-packages/sklearn/metrics/_classification.py:1308: UndefinedMetricWarning: Recall and F-score are ill-defined and being set to 0.0 in labels with no true samples. Use `zero_division` parameter to control this behavior.\n",
      "  _warn_prf(average, modifier, msg_start, len(result))\n",
      "/opt/homebrew/Caskroom/miniforge/base/envs/cse258/lib/python3.9/site-packages/sklearn/metrics/_classification.py:1308: UndefinedMetricWarning: Precision and F-score are ill-defined and being set to 0.0 in labels with no predicted samples. Use `zero_division` parameter to control this behavior.\n",
      "  _warn_prf(average, modifier, msg_start, len(result))\n",
      "/opt/homebrew/Caskroom/miniforge/base/envs/cse258/lib/python3.9/site-packages/sklearn/metrics/_classification.py:1308: UndefinedMetricWarning: Recall and F-score are ill-defined and being set to 0.0 in labels with no true samples. Use `zero_division` parameter to control this behavior.\n",
      "  _warn_prf(average, modifier, msg_start, len(result))\n",
      "/opt/homebrew/Caskroom/miniforge/base/envs/cse258/lib/python3.9/site-packages/sklearn/metrics/_classification.py:1308: UndefinedMetricWarning: Precision and F-score are ill-defined and being set to 0.0 in labels with no predicted samples. Use `zero_division` parameter to control this behavior.\n",
      "  _warn_prf(average, modifier, msg_start, len(result))\n",
      "/opt/homebrew/Caskroom/miniforge/base/envs/cse258/lib/python3.9/site-packages/sklearn/metrics/_classification.py:1308: UndefinedMetricWarning: Recall and F-score are ill-defined and being set to 0.0 in labels with no true samples. Use `zero_division` parameter to control this behavior.\n",
      "  _warn_prf(average, modifier, msg_start, len(result))\n"
     ]
    }
   ],
   "source": [
    "print ('\\nReport on data set:')\n",
    "print(metrics.classification_report(y_test, decision_tree_predictions))\n",
    "print(metrics.precision_recall_fscore_support(y_test, decision_tree_predictions, average='micro'))"
   ]
  },
  {
   "cell_type": "code",
   "execution_count": 104,
   "metadata": {},
   "outputs": [
    {
     "data": {
      "text/plain": [
       "(0.8719864995178399, 1.0)"
      ]
     },
     "execution_count": 104,
     "metadata": {},
     "output_type": "execute_result"
    }
   ],
   "source": [
    "# Random Forest\n",
    "from sklearn.ensemble import RandomForestClassifier\n",
    "random_forest_classifier = RandomForestClassifier(n_jobs=-1).fit(X_train, y_train)\n",
    "random_forest_predictions = random_forest_classifier.predict(X_test)\n",
    "random_forest_score = random_forest_classifier.score(X_test, y_test)\n",
    "random_forest_score_train = random_forest_classifier.score(X_train, y_train)\n",
    "random_forest_score, random_forest_score_train"
   ]
  },
  {
   "cell_type": "code",
   "execution_count": 105,
   "metadata": {},
   "outputs": [
    {
     "name": "stdout",
     "output_type": "stream",
     "text": [
      "\n",
      "Report on data set:\n",
      "              precision    recall  f1-score   support\n",
      "\n",
      "           0       0.45      0.09      0.15        54\n",
      "           1       0.67      0.56      0.61      4844\n",
      "           2       0.38      0.04      0.07       518\n",
      "           3       1.00      1.00      1.00      1717\n",
      "           4       0.00      0.00      0.00         5\n",
      "           5       0.37      0.11      0.16       123\n",
      "           6       0.90      0.96      0.93     21774\n",
      "           7       0.00      0.00      0.00         1\n",
      "\n",
      "    accuracy                           0.87     29036\n",
      "   macro avg       0.47      0.34      0.37     29036\n",
      "weighted avg       0.85      0.87      0.86     29036\n",
      "\n",
      "(0.8719864995178399, 0.8719864995178399, 0.8719864995178399, None)\n"
     ]
    },
    {
     "name": "stderr",
     "output_type": "stream",
     "text": [
      "/opt/homebrew/Caskroom/miniforge/base/envs/cse258/lib/python3.9/site-packages/sklearn/metrics/_classification.py:1308: UndefinedMetricWarning: Precision and F-score are ill-defined and being set to 0.0 in labels with no predicted samples. Use `zero_division` parameter to control this behavior.\n",
      "  _warn_prf(average, modifier, msg_start, len(result))\n",
      "/opt/homebrew/Caskroom/miniforge/base/envs/cse258/lib/python3.9/site-packages/sklearn/metrics/_classification.py:1308: UndefinedMetricWarning: Precision and F-score are ill-defined and being set to 0.0 in labels with no predicted samples. Use `zero_division` parameter to control this behavior.\n",
      "  _warn_prf(average, modifier, msg_start, len(result))\n",
      "/opt/homebrew/Caskroom/miniforge/base/envs/cse258/lib/python3.9/site-packages/sklearn/metrics/_classification.py:1308: UndefinedMetricWarning: Precision and F-score are ill-defined and being set to 0.0 in labels with no predicted samples. Use `zero_division` parameter to control this behavior.\n",
      "  _warn_prf(average, modifier, msg_start, len(result))\n"
     ]
    }
   ],
   "source": [
    "print ('\\nReport on data set:')\n",
    "print(metrics.classification_report(y_test, random_forest_predictions))\n",
    "print(metrics.precision_recall_fscore_support(y_test, random_forest_predictions, average='micro'))"
   ]
  },
  {
   "cell_type": "code",
   "execution_count": 106,
   "metadata": {},
   "outputs": [
    {
     "data": {
      "text/plain": [
       "(0.8051040088166415, 0.848565557303087)"
      ]
     },
     "execution_count": 106,
     "metadata": {},
     "output_type": "execute_result"
    }
   ],
   "source": [
    "# K-nearest Neighbors\n",
    "from sklearn.neighbors import KNeighborsClassifier\n",
    "kneighbors_classifier = KNeighborsClassifier().fit(X_train, y_train)\n",
    "kneighbors_predictions = kneighbors_classifier.predict(X_test)\n",
    "kneighbors_score = kneighbors_classifier.score(X_test, y_test)\n",
    "kneighbors_score_train = kneighbors_classifier.score(X_train, y_train)\n",
    "kneighbors_score, kneighbors_score_train"
   ]
  },
  {
   "cell_type": "code",
   "execution_count": 107,
   "metadata": {},
   "outputs": [
    {
     "name": "stdout",
     "output_type": "stream",
     "text": [
      "\n",
      "Report on data set:\n",
      "              precision    recall  f1-score   support\n",
      "\n",
      "           0       0.11      0.02      0.03        54\n",
      "           1       0.51      0.42      0.46      4844\n",
      "           2       0.12      0.02      0.04       518\n",
      "           3       0.73      0.75      0.74      1717\n",
      "           4       0.00      0.00      0.00         5\n",
      "           5       0.00      0.00      0.00       123\n",
      "           6       0.86      0.92      0.89     21774\n",
      "           7       0.00      0.00      0.00         1\n",
      "\n",
      "    accuracy                           0.81     29036\n",
      "   macro avg       0.29      0.27      0.27     29036\n",
      "weighted avg       0.78      0.81      0.79     29036\n",
      "\n",
      "(0.8051040088166415, 0.8051040088166415, 0.8051040088166415, None)\n"
     ]
    },
    {
     "name": "stderr",
     "output_type": "stream",
     "text": [
      "/opt/homebrew/Caskroom/miniforge/base/envs/cse258/lib/python3.9/site-packages/sklearn/metrics/_classification.py:1308: UndefinedMetricWarning: Precision and F-score are ill-defined and being set to 0.0 in labels with no predicted samples. Use `zero_division` parameter to control this behavior.\n",
      "  _warn_prf(average, modifier, msg_start, len(result))\n",
      "/opt/homebrew/Caskroom/miniforge/base/envs/cse258/lib/python3.9/site-packages/sklearn/metrics/_classification.py:1308: UndefinedMetricWarning: Precision and F-score are ill-defined and being set to 0.0 in labels with no predicted samples. Use `zero_division` parameter to control this behavior.\n",
      "  _warn_prf(average, modifier, msg_start, len(result))\n",
      "/opt/homebrew/Caskroom/miniforge/base/envs/cse258/lib/python3.9/site-packages/sklearn/metrics/_classification.py:1308: UndefinedMetricWarning: Precision and F-score are ill-defined and being set to 0.0 in labels with no predicted samples. Use `zero_division` parameter to control this behavior.\n",
      "  _warn_prf(average, modifier, msg_start, len(result))\n"
     ]
    }
   ],
   "source": [
    "print ('\\nReport on data set:')\n",
    "print(metrics.classification_report(y_test, kneighbors_predictions))\n",
    "print(metrics.precision_recall_fscore_support(y_test, kneighbors_predictions, average='micro'))"
   ]
  },
  {
   "cell_type": "code",
   "execution_count": 108,
   "metadata": {},
   "outputs": [
    {
     "data": {
      "text/plain": [
       "(0.6896266703402673, 0.690702239774071)"
      ]
     },
     "execution_count": 108,
     "metadata": {},
     "output_type": "execute_result"
    }
   ],
   "source": [
    "# Gradient Boosting Classifier\n",
    "from sklearn.ensemble import GradientBoostingClassifier\n",
    "gradient_classifier = GradientBoostingClassifier().fit(X_train, y_train)\n",
    "gradient_classifier_predictions = gradient_classifier.predict(X_test)\n",
    "gradient_classifier_score = gradient_classifier.score(X_test, y_test)\n",
    "gradient_classifier_score_train = gradient_classifier.score(X_train, y_train)\n",
    "gradient_classifier_score, gradient_classifier_score_train"
   ]
  },
  {
   "cell_type": "code",
   "execution_count": 109,
   "metadata": {},
   "outputs": [
    {
     "name": "stdout",
     "output_type": "stream",
     "text": [
      "\n",
      "Report on data set:\n",
      "              precision    recall  f1-score   support\n",
      "\n",
      "           0       0.13      0.06      0.08        54\n",
      "           1       0.67      0.41      0.50      4844\n",
      "           2       0.18      0.01      0.03       518\n",
      "           3       1.00      0.13      0.23      1717\n",
      "           4       0.00      0.00      0.00         5\n",
      "           5       0.40      0.10      0.16       123\n",
      "           6       0.89      0.82      0.85     21774\n",
      "           7       0.00      0.00      0.00         1\n",
      "           8       0.00      0.00      0.00         0\n",
      "\n",
      "    accuracy                           0.69     29036\n",
      "   macro avg       0.36      0.17      0.20     29036\n",
      "weighted avg       0.84      0.69      0.74     29036\n",
      "\n",
      "(0.6896266703402673, 0.6896266703402673, 0.6896266703402673, None)\n"
     ]
    },
    {
     "name": "stderr",
     "output_type": "stream",
     "text": [
      "/opt/homebrew/Caskroom/miniforge/base/envs/cse258/lib/python3.9/site-packages/sklearn/metrics/_classification.py:1308: UndefinedMetricWarning: Precision and F-score are ill-defined and being set to 0.0 in labels with no predicted samples. Use `zero_division` parameter to control this behavior.\n",
      "  _warn_prf(average, modifier, msg_start, len(result))\n",
      "/opt/homebrew/Caskroom/miniforge/base/envs/cse258/lib/python3.9/site-packages/sklearn/metrics/_classification.py:1308: UndefinedMetricWarning: Recall and F-score are ill-defined and being set to 0.0 in labels with no true samples. Use `zero_division` parameter to control this behavior.\n",
      "  _warn_prf(average, modifier, msg_start, len(result))\n",
      "/opt/homebrew/Caskroom/miniforge/base/envs/cse258/lib/python3.9/site-packages/sklearn/metrics/_classification.py:1308: UndefinedMetricWarning: Precision and F-score are ill-defined and being set to 0.0 in labels with no predicted samples. Use `zero_division` parameter to control this behavior.\n",
      "  _warn_prf(average, modifier, msg_start, len(result))\n",
      "/opt/homebrew/Caskroom/miniforge/base/envs/cse258/lib/python3.9/site-packages/sklearn/metrics/_classification.py:1308: UndefinedMetricWarning: Recall and F-score are ill-defined and being set to 0.0 in labels with no true samples. Use `zero_division` parameter to control this behavior.\n",
      "  _warn_prf(average, modifier, msg_start, len(result))\n",
      "/opt/homebrew/Caskroom/miniforge/base/envs/cse258/lib/python3.9/site-packages/sklearn/metrics/_classification.py:1308: UndefinedMetricWarning: Precision and F-score are ill-defined and being set to 0.0 in labels with no predicted samples. Use `zero_division` parameter to control this behavior.\n",
      "  _warn_prf(average, modifier, msg_start, len(result))\n",
      "/opt/homebrew/Caskroom/miniforge/base/envs/cse258/lib/python3.9/site-packages/sklearn/metrics/_classification.py:1308: UndefinedMetricWarning: Recall and F-score are ill-defined and being set to 0.0 in labels with no true samples. Use `zero_division` parameter to control this behavior.\n",
      "  _warn_prf(average, modifier, msg_start, len(result))\n"
     ]
    }
   ],
   "source": [
    "print ('\\nReport on data set:')\n",
    "print(metrics.classification_report(y_test, gradient_classifier_predictions))\n",
    "print(metrics.precision_recall_fscore_support(y_test, gradient_classifier_predictions, average='micro'))"
   ]
  },
  {
   "cell_type": "code",
   "execution_count": 110,
   "metadata": {},
   "outputs": [
    {
     "data": {
      "text/plain": [
       "(0.7498966799834688, 0.7483325105904233)"
      ]
     },
     "execution_count": 110,
     "metadata": {},
     "output_type": "execute_result"
    }
   ],
   "source": [
    "# Using Neural Network (scikit-learn)\n",
    "from sklearn.neural_network import MLPClassifier\n",
    "mlp_classifier = MLPClassifier(hidden_layer_sizes=(100,10)).fit(X_train, y_train)\n",
    "mlp_predictions = mlp_classifier.predict(X_test)\n",
    "mlp_score = mlp_classifier.score(X_test, y_test)\n",
    "mlp_score_train = mlp_classifier.score(X_train, y_train)\n",
    "mlp_score, mlp_score_train"
   ]
  },
  {
   "cell_type": "code",
   "execution_count": 111,
   "metadata": {},
   "outputs": [
    {
     "name": "stdout",
     "output_type": "stream",
     "text": [
      "\n",
      "Report on data set:\n",
      "              precision    recall  f1-score   support\n",
      "\n",
      "           0       0.00      0.00      0.00        54\n",
      "           1       0.00      0.00      0.00      4844\n",
      "           2       0.00      0.00      0.00       518\n",
      "           3       0.00      0.00      0.00      1717\n",
      "           4       0.00      0.00      0.00         5\n",
      "           5       0.00      0.00      0.00       123\n",
      "           6       0.75      1.00      0.86     21774\n",
      "           7       0.00      0.00      0.00         1\n",
      "\n",
      "    accuracy                           0.75     29036\n",
      "   macro avg       0.09      0.12      0.11     29036\n",
      "weighted avg       0.56      0.75      0.64     29036\n",
      "\n",
      "(0.7498966799834688, 0.7498966799834688, 0.7498966799834689, None)\n"
     ]
    },
    {
     "name": "stderr",
     "output_type": "stream",
     "text": [
      "/opt/homebrew/Caskroom/miniforge/base/envs/cse258/lib/python3.9/site-packages/sklearn/metrics/_classification.py:1308: UndefinedMetricWarning: Precision and F-score are ill-defined and being set to 0.0 in labels with no predicted samples. Use `zero_division` parameter to control this behavior.\n",
      "  _warn_prf(average, modifier, msg_start, len(result))\n",
      "/opt/homebrew/Caskroom/miniforge/base/envs/cse258/lib/python3.9/site-packages/sklearn/metrics/_classification.py:1308: UndefinedMetricWarning: Precision and F-score are ill-defined and being set to 0.0 in labels with no predicted samples. Use `zero_division` parameter to control this behavior.\n",
      "  _warn_prf(average, modifier, msg_start, len(result))\n",
      "/opt/homebrew/Caskroom/miniforge/base/envs/cse258/lib/python3.9/site-packages/sklearn/metrics/_classification.py:1308: UndefinedMetricWarning: Precision and F-score are ill-defined and being set to 0.0 in labels with no predicted samples. Use `zero_division` parameter to control this behavior.\n",
      "  _warn_prf(average, modifier, msg_start, len(result))\n"
     ]
    }
   ],
   "source": [
    "print ('\\nReport on data set:')\n",
    "print(metrics.classification_report(y_test, mlp_predictions))\n",
    "print(metrics.precision_recall_fscore_support(y_test, mlp_predictions, average='micro'))"
   ]
  },
  {
   "cell_type": "code",
   "execution_count": null,
   "metadata": {},
   "outputs": [],
   "source": []
  }
 ],
 "metadata": {
  "interpreter": {
   "hash": "0267f72e179a3291ac96e6d5bd4183587567e0f47878f79b81464ab264b49583"
  },
  "kernelspec": {
   "display_name": "Python 3.9.7 64-bit ('cse258': conda)",
   "language": "python",
   "name": "python3"
  },
  "language_info": {
   "codemirror_mode": {
    "name": "ipython",
    "version": 3
   },
   "file_extension": ".py",
   "mimetype": "text/x-python",
   "name": "python",
   "nbconvert_exporter": "python",
   "pygments_lexer": "ipython3",
   "version": "3.9.7"
  },
  "orig_nbformat": 4
 },
 "nbformat": 4,
 "nbformat_minor": 2
}
