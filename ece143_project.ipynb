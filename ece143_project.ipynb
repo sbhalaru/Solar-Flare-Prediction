{
 "cells": [
  {
   "cell_type": "code",
   "execution_count": 1,
   "metadata": {},
   "outputs": [],
   "source": [
    "import numpy as np\n",
    "import pandas as pd\n",
    "from matplotlib import pyplot as plt\n",
    "import seaborn as sns\n",
    "from datetime import datetime\n",
    "import scipy.stats as stats"
   ]
  },
  {
   "cell_type": "markdown",
   "metadata": {},
   "source": [
    "### Read data and show some statistics"
   ]
  },
  {
   "cell_type": "code",
   "execution_count": 2,
   "metadata": {},
   "outputs": [],
   "source": [
    "solar_df = pd.read_csv(\"hessi.solar.flare.UP_To_2018.csv\", sep=',', index_col=0)\n",
    "\n",
    "''' Drop the flag columns'''\n",
    "solar_df = solar_df.drop([\"active.region.ar\", \"flag.1\", \"flag.2\", \"flag.3\", \"flag.4\", \"flag.5\"], axis=1)\n",
    "\n",
    "''' Some Radial Values are beyond 2000'''\n",
    "solar_df = solar_df[solar_df[\"radial\"] <960]"
   ]
  },
  {
   "cell_type": "code",
   "execution_count": 3,
   "metadata": {},
   "outputs": [
    {
     "data": {
      "text/plain": [
       "116014"
      ]
     },
     "execution_count": 3,
     "metadata": {},
     "output_type": "execute_result"
    }
   ],
   "source": [
    "len(solar_df)"
   ]
  },
  {
   "cell_type": "code",
   "execution_count": 4,
   "metadata": {},
   "outputs": [
    {
     "data": {
      "text/html": [
       "<div>\n",
       "<style scoped>\n",
       "    .dataframe tbody tr th:only-of-type {\n",
       "        vertical-align: middle;\n",
       "    }\n",
       "\n",
       "    .dataframe tbody tr th {\n",
       "        vertical-align: top;\n",
       "    }\n",
       "\n",
       "    .dataframe thead th {\n",
       "        text-align: right;\n",
       "    }\n",
       "</style>\n",
       "<table border=\"1\" class=\"dataframe\">\n",
       "  <thead>\n",
       "    <tr style=\"text-align: right;\">\n",
       "      <th></th>\n",
       "      <th>start.date</th>\n",
       "      <th>start.time</th>\n",
       "      <th>peak</th>\n",
       "      <th>end</th>\n",
       "      <th>duration.s</th>\n",
       "      <th>peak.c/s</th>\n",
       "      <th>total.counts</th>\n",
       "      <th>energy.kev</th>\n",
       "      <th>x.pos.asec</th>\n",
       "      <th>y.pos.asec</th>\n",
       "      <th>radial</th>\n",
       "    </tr>\n",
       "    <tr>\n",
       "      <th>flare</th>\n",
       "      <th></th>\n",
       "      <th></th>\n",
       "      <th></th>\n",
       "      <th></th>\n",
       "      <th></th>\n",
       "      <th></th>\n",
       "      <th></th>\n",
       "      <th></th>\n",
       "      <th></th>\n",
       "      <th></th>\n",
       "      <th></th>\n",
       "    </tr>\n",
       "  </thead>\n",
       "  <tbody>\n",
       "    <tr>\n",
       "      <th>2021213</th>\n",
       "      <td>2002-02-12</td>\n",
       "      <td>21:29:56</td>\n",
       "      <td>21:33:38</td>\n",
       "      <td>21:41:48</td>\n",
       "      <td>712</td>\n",
       "      <td>136</td>\n",
       "      <td>167304.0</td>\n",
       "      <td>12-25</td>\n",
       "      <td>592</td>\n",
       "      <td>-358</td>\n",
       "      <td>692</td>\n",
       "    </tr>\n",
       "    <tr>\n",
       "      <th>2021228</th>\n",
       "      <td>2002-02-12</td>\n",
       "      <td>21:44:08</td>\n",
       "      <td>21:45:06</td>\n",
       "      <td>21:48:56</td>\n",
       "      <td>288</td>\n",
       "      <td>7</td>\n",
       "      <td>9504.0</td>\n",
       "      <td>6-12</td>\n",
       "      <td>604</td>\n",
       "      <td>-341</td>\n",
       "      <td>694</td>\n",
       "    </tr>\n",
       "    <tr>\n",
       "      <th>2021332</th>\n",
       "      <td>2002-02-13</td>\n",
       "      <td>00:53:24</td>\n",
       "      <td>00:54:54</td>\n",
       "      <td>00:57:00</td>\n",
       "      <td>216</td>\n",
       "      <td>15</td>\n",
       "      <td>11448.0</td>\n",
       "      <td>6-12</td>\n",
       "      <td>-310</td>\n",
       "      <td>375</td>\n",
       "      <td>487</td>\n",
       "    </tr>\n",
       "    <tr>\n",
       "      <th>2021308</th>\n",
       "      <td>2002-02-13</td>\n",
       "      <td>04:22:52</td>\n",
       "      <td>04:23:50</td>\n",
       "      <td>04:26:56</td>\n",
       "      <td>244</td>\n",
       "      <td>20</td>\n",
       "      <td>17400.0</td>\n",
       "      <td>12-25</td>\n",
       "      <td>-277</td>\n",
       "      <td>378</td>\n",
       "      <td>469</td>\n",
       "    </tr>\n",
       "    <tr>\n",
       "      <th>2021310</th>\n",
       "      <td>2002-02-13</td>\n",
       "      <td>07:03:52</td>\n",
       "      <td>07:05:14</td>\n",
       "      <td>07:07:48</td>\n",
       "      <td>236</td>\n",
       "      <td>336</td>\n",
       "      <td>313392.0</td>\n",
       "      <td>25-50</td>\n",
       "      <td>-272</td>\n",
       "      <td>390</td>\n",
       "      <td>476</td>\n",
       "    </tr>\n",
       "    <tr>\n",
       "      <th>...</th>\n",
       "      <td>...</td>\n",
       "      <td>...</td>\n",
       "      <td>...</td>\n",
       "      <td>...</td>\n",
       "      <td>...</td>\n",
       "      <td>...</td>\n",
       "      <td>...</td>\n",
       "      <td>...</td>\n",
       "      <td>...</td>\n",
       "      <td>...</td>\n",
       "      <td>...</td>\n",
       "    </tr>\n",
       "    <tr>\n",
       "      <th>18020903</th>\n",
       "      <td>2018-02-09</td>\n",
       "      <td>16:41:28</td>\n",
       "      <td>16:42:54</td>\n",
       "      <td>16:43:32</td>\n",
       "      <td>124</td>\n",
       "      <td>18</td>\n",
       "      <td>2888.0</td>\n",
       "      <td>6-12</td>\n",
       "      <td>-345</td>\n",
       "      <td>-38</td>\n",
       "      <td>347</td>\n",
       "    </tr>\n",
       "    <tr>\n",
       "      <th>18020904</th>\n",
       "      <td>2018-02-09</td>\n",
       "      <td>18:15:56</td>\n",
       "      <td>18:17:26</td>\n",
       "      <td>18:17:40</td>\n",
       "      <td>104</td>\n",
       "      <td>16</td>\n",
       "      <td>1656.0</td>\n",
       "      <td>6-12</td>\n",
       "      <td>-268</td>\n",
       "      <td>-38</td>\n",
       "      <td>271</td>\n",
       "    </tr>\n",
       "    <tr>\n",
       "      <th>18021001</th>\n",
       "      <td>2018-02-10</td>\n",
       "      <td>13:04:36</td>\n",
       "      <td>13:06:46</td>\n",
       "      <td>13:07:04</td>\n",
       "      <td>148</td>\n",
       "      <td>15</td>\n",
       "      <td>2224.0</td>\n",
       "      <td>6-12</td>\n",
       "      <td>-115</td>\n",
       "      <td>-38</td>\n",
       "      <td>121</td>\n",
       "    </tr>\n",
       "    <tr>\n",
       "      <th>18022601</th>\n",
       "      <td>2018-02-26</td>\n",
       "      <td>15:49:56</td>\n",
       "      <td>15:51:18</td>\n",
       "      <td>15:53:52</td>\n",
       "      <td>236</td>\n",
       "      <td>16</td>\n",
       "      <td>3312.0</td>\n",
       "      <td>6-12</td>\n",
       "      <td>115</td>\n",
       "      <td>192</td>\n",
       "      <td>223</td>\n",
       "    </tr>\n",
       "    <tr>\n",
       "      <th>18030301</th>\n",
       "      <td>2018-03-03</td>\n",
       "      <td>04:04:08</td>\n",
       "      <td>04:06:22</td>\n",
       "      <td>04:12:20</td>\n",
       "      <td>492</td>\n",
       "      <td>42</td>\n",
       "      <td>15816.0</td>\n",
       "      <td>6-12</td>\n",
       "      <td>926</td>\n",
       "      <td>128</td>\n",
       "      <td>935</td>\n",
       "    </tr>\n",
       "  </tbody>\n",
       "</table>\n",
       "<p>116014 rows × 11 columns</p>\n",
       "</div>"
      ],
      "text/plain": [
       "          start.date start.time      peak       end  duration.s  peak.c/s  \\\n",
       "flare                                                                       \n",
       "2021213   2002-02-12   21:29:56  21:33:38  21:41:48         712       136   \n",
       "2021228   2002-02-12   21:44:08  21:45:06  21:48:56         288         7   \n",
       "2021332   2002-02-13   00:53:24  00:54:54  00:57:00         216        15   \n",
       "2021308   2002-02-13   04:22:52  04:23:50  04:26:56         244        20   \n",
       "2021310   2002-02-13   07:03:52  07:05:14  07:07:48         236       336   \n",
       "...              ...        ...       ...       ...         ...       ...   \n",
       "18020903  2018-02-09   16:41:28  16:42:54  16:43:32         124        18   \n",
       "18020904  2018-02-09   18:15:56  18:17:26  18:17:40         104        16   \n",
       "18021001  2018-02-10   13:04:36  13:06:46  13:07:04         148        15   \n",
       "18022601  2018-02-26   15:49:56  15:51:18  15:53:52         236        16   \n",
       "18030301  2018-03-03   04:04:08  04:06:22  04:12:20         492        42   \n",
       "\n",
       "          total.counts energy.kev  x.pos.asec  y.pos.asec  radial  \n",
       "flare                                                              \n",
       "2021213       167304.0      12-25         592        -358     692  \n",
       "2021228         9504.0       6-12         604        -341     694  \n",
       "2021332        11448.0       6-12        -310         375     487  \n",
       "2021308        17400.0      12-25        -277         378     469  \n",
       "2021310       313392.0      25-50        -272         390     476  \n",
       "...                ...        ...         ...         ...     ...  \n",
       "18020903        2888.0       6-12        -345         -38     347  \n",
       "18020904        1656.0       6-12        -268         -38     271  \n",
       "18021001        2224.0       6-12        -115         -38     121  \n",
       "18022601        3312.0       6-12         115         192     223  \n",
       "18030301       15816.0       6-12         926         128     935  \n",
       "\n",
       "[116014 rows x 11 columns]"
      ]
     },
     "execution_count": 4,
     "metadata": {},
     "output_type": "execute_result"
    }
   ],
   "source": [
    "solar_df"
   ]
  },
  {
   "cell_type": "code",
   "execution_count": 5,
   "metadata": {},
   "outputs": [
    {
     "data": {
      "text/plain": [
       "start.date      0\n",
       "start.time      0\n",
       "peak            0\n",
       "end             0\n",
       "duration.s      0\n",
       "peak.c/s        0\n",
       "total.counts    0\n",
       "energy.kev      0\n",
       "x.pos.asec      0\n",
       "y.pos.asec      0\n",
       "radial          0\n",
       "dtype: int64"
      ]
     },
     "execution_count": 5,
     "metadata": {},
     "output_type": "execute_result"
    }
   ],
   "source": [
    "solar_df.isnull().sum()"
   ]
  },
  {
   "cell_type": "code",
   "execution_count": 6,
   "metadata": {},
   "outputs": [
    {
     "data": {
      "text/html": [
       "<div>\n",
       "<style scoped>\n",
       "    .dataframe tbody tr th:only-of-type {\n",
       "        vertical-align: middle;\n",
       "    }\n",
       "\n",
       "    .dataframe tbody tr th {\n",
       "        vertical-align: top;\n",
       "    }\n",
       "\n",
       "    .dataframe thead th {\n",
       "        text-align: right;\n",
       "    }\n",
       "</style>\n",
       "<table border=\"1\" class=\"dataframe\">\n",
       "  <thead>\n",
       "    <tr style=\"text-align: right;\">\n",
       "      <th></th>\n",
       "      <th>duration.s</th>\n",
       "      <th>peak.c/s</th>\n",
       "      <th>total.counts</th>\n",
       "      <th>x.pos.asec</th>\n",
       "      <th>y.pos.asec</th>\n",
       "      <th>radial</th>\n",
       "    </tr>\n",
       "  </thead>\n",
       "  <tbody>\n",
       "    <tr>\n",
       "      <th>count</th>\n",
       "      <td>116014.000000</td>\n",
       "      <td>116014.000000</td>\n",
       "      <td>1.160140e+05</td>\n",
       "      <td>116014.000000</td>\n",
       "      <td>116014.000000</td>\n",
       "      <td>116014.000000</td>\n",
       "    </tr>\n",
       "    <tr>\n",
       "      <th>mean</th>\n",
       "      <td>493.656628</td>\n",
       "      <td>215.093834</td>\n",
       "      <td>3.770958e+05</td>\n",
       "      <td>2.400133</td>\n",
       "      <td>-32.150973</td>\n",
       "      <td>674.397331</td>\n",
       "    </tr>\n",
       "    <tr>\n",
       "      <th>std</th>\n",
       "      <td>434.153313</td>\n",
       "      <td>839.589922</td>\n",
       "      <td>3.050433e+06</td>\n",
       "      <td>690.023292</td>\n",
       "      <td>258.457691</td>\n",
       "      <td>298.855830</td>\n",
       "    </tr>\n",
       "    <tr>\n",
       "      <th>min</th>\n",
       "      <td>8.000000</td>\n",
       "      <td>0.000000</td>\n",
       "      <td>8.000000e+00</td>\n",
       "      <td>-1242.000000</td>\n",
       "      <td>-1235.000000</td>\n",
       "      <td>0.000000</td>\n",
       "    </tr>\n",
       "    <tr>\n",
       "      <th>25%</th>\n",
       "      <td>212.000000</td>\n",
       "      <td>28.000000</td>\n",
       "      <td>2.286000e+04</td>\n",
       "      <td>-699.000000</td>\n",
       "      <td>-247.000000</td>\n",
       "      <td>467.000000</td>\n",
       "    </tr>\n",
       "    <tr>\n",
       "      <th>50%</th>\n",
       "      <td>364.000000</td>\n",
       "      <td>56.000000</td>\n",
       "      <td>5.860800e+04</td>\n",
       "      <td>0.000000</td>\n",
       "      <td>-71.000000</td>\n",
       "      <td>758.000000</td>\n",
       "    </tr>\n",
       "    <tr>\n",
       "      <th>75%</th>\n",
       "      <td>628.000000</td>\n",
       "      <td>144.000000</td>\n",
       "      <td>1.798572e+05</td>\n",
       "      <td>709.000000</td>\n",
       "      <td>198.000000</td>\n",
       "      <td>946.000000</td>\n",
       "    </tr>\n",
       "    <tr>\n",
       "      <th>max</th>\n",
       "      <td>4444.000000</td>\n",
       "      <td>113156.000000</td>\n",
       "      <td>4.355501e+08</td>\n",
       "      <td>1190.000000</td>\n",
       "      <td>1223.000000</td>\n",
       "      <td>1731.000000</td>\n",
       "    </tr>\n",
       "  </tbody>\n",
       "</table>\n",
       "</div>"
      ],
      "text/plain": [
       "          duration.s       peak.c/s  total.counts     x.pos.asec  \\\n",
       "count  116014.000000  116014.000000  1.160140e+05  116014.000000   \n",
       "mean      493.656628     215.093834  3.770958e+05       2.400133   \n",
       "std       434.153313     839.589922  3.050433e+06     690.023292   \n",
       "min         8.000000       0.000000  8.000000e+00   -1242.000000   \n",
       "25%       212.000000      28.000000  2.286000e+04    -699.000000   \n",
       "50%       364.000000      56.000000  5.860800e+04       0.000000   \n",
       "75%       628.000000     144.000000  1.798572e+05     709.000000   \n",
       "max      4444.000000  113156.000000  4.355501e+08    1190.000000   \n",
       "\n",
       "          y.pos.asec         radial  \n",
       "count  116014.000000  116014.000000  \n",
       "mean      -32.150973     674.397331  \n",
       "std       258.457691     298.855830  \n",
       "min     -1235.000000       0.000000  \n",
       "25%      -247.000000     467.000000  \n",
       "50%       -71.000000     758.000000  \n",
       "75%       198.000000     946.000000  \n",
       "max      1223.000000    1731.000000  "
      ]
     },
     "execution_count": 6,
     "metadata": {},
     "output_type": "execute_result"
    }
   ],
   "source": [
    "solar_df.describe()"
   ]
  },
  {
   "cell_type": "code",
   "execution_count": 7,
   "metadata": {},
   "outputs": [
    {
     "data": {
      "text/html": [
       "<div>\n",
       "<style scoped>\n",
       "    .dataframe tbody tr th:only-of-type {\n",
       "        vertical-align: middle;\n",
       "    }\n",
       "\n",
       "    .dataframe tbody tr th {\n",
       "        vertical-align: top;\n",
       "    }\n",
       "\n",
       "    .dataframe thead th {\n",
       "        text-align: right;\n",
       "    }\n",
       "</style>\n",
       "<table border=\"1\" class=\"dataframe\">\n",
       "  <thead>\n",
       "    <tr style=\"text-align: right;\">\n",
       "      <th></th>\n",
       "      <th>start.time</th>\n",
       "      <th>peak</th>\n",
       "      <th>end</th>\n",
       "      <th>duration.s</th>\n",
       "      <th>peak.c/s</th>\n",
       "      <th>total.counts</th>\n",
       "      <th>energy.kev</th>\n",
       "      <th>x.pos.asec</th>\n",
       "      <th>y.pos.asec</th>\n",
       "      <th>radial</th>\n",
       "    </tr>\n",
       "    <tr>\n",
       "      <th>start.date</th>\n",
       "      <th></th>\n",
       "      <th></th>\n",
       "      <th></th>\n",
       "      <th></th>\n",
       "      <th></th>\n",
       "      <th></th>\n",
       "      <th></th>\n",
       "      <th></th>\n",
       "      <th></th>\n",
       "      <th></th>\n",
       "    </tr>\n",
       "  </thead>\n",
       "  <tbody>\n",
       "    <tr>\n",
       "      <th>2002-02-12</th>\n",
       "      <td>2</td>\n",
       "      <td>2</td>\n",
       "      <td>2</td>\n",
       "      <td>2</td>\n",
       "      <td>2</td>\n",
       "      <td>2</td>\n",
       "      <td>2</td>\n",
       "      <td>2</td>\n",
       "      <td>2</td>\n",
       "      <td>2</td>\n",
       "    </tr>\n",
       "    <tr>\n",
       "      <th>2002-02-13</th>\n",
       "      <td>10</td>\n",
       "      <td>10</td>\n",
       "      <td>10</td>\n",
       "      <td>10</td>\n",
       "      <td>10</td>\n",
       "      <td>10</td>\n",
       "      <td>10</td>\n",
       "      <td>10</td>\n",
       "      <td>10</td>\n",
       "      <td>10</td>\n",
       "    </tr>\n",
       "    <tr>\n",
       "      <th>2002-02-14</th>\n",
       "      <td>11</td>\n",
       "      <td>11</td>\n",
       "      <td>11</td>\n",
       "      <td>11</td>\n",
       "      <td>11</td>\n",
       "      <td>11</td>\n",
       "      <td>11</td>\n",
       "      <td>11</td>\n",
       "      <td>11</td>\n",
       "      <td>11</td>\n",
       "    </tr>\n",
       "    <tr>\n",
       "      <th>2002-02-15</th>\n",
       "      <td>1</td>\n",
       "      <td>1</td>\n",
       "      <td>1</td>\n",
       "      <td>1</td>\n",
       "      <td>1</td>\n",
       "      <td>1</td>\n",
       "      <td>1</td>\n",
       "      <td>1</td>\n",
       "      <td>1</td>\n",
       "      <td>1</td>\n",
       "    </tr>\n",
       "    <tr>\n",
       "      <th>2002-02-16</th>\n",
       "      <td>3</td>\n",
       "      <td>3</td>\n",
       "      <td>3</td>\n",
       "      <td>3</td>\n",
       "      <td>3</td>\n",
       "      <td>3</td>\n",
       "      <td>3</td>\n",
       "      <td>3</td>\n",
       "      <td>3</td>\n",
       "      <td>3</td>\n",
       "    </tr>\n",
       "    <tr>\n",
       "      <th>...</th>\n",
       "      <td>...</td>\n",
       "      <td>...</td>\n",
       "      <td>...</td>\n",
       "      <td>...</td>\n",
       "      <td>...</td>\n",
       "      <td>...</td>\n",
       "      <td>...</td>\n",
       "      <td>...</td>\n",
       "      <td>...</td>\n",
       "      <td>...</td>\n",
       "    </tr>\n",
       "    <tr>\n",
       "      <th>2018-02-08</th>\n",
       "      <td>3</td>\n",
       "      <td>3</td>\n",
       "      <td>3</td>\n",
       "      <td>3</td>\n",
       "      <td>3</td>\n",
       "      <td>3</td>\n",
       "      <td>3</td>\n",
       "      <td>3</td>\n",
       "      <td>3</td>\n",
       "      <td>3</td>\n",
       "    </tr>\n",
       "    <tr>\n",
       "      <th>2018-02-09</th>\n",
       "      <td>4</td>\n",
       "      <td>4</td>\n",
       "      <td>4</td>\n",
       "      <td>4</td>\n",
       "      <td>4</td>\n",
       "      <td>4</td>\n",
       "      <td>4</td>\n",
       "      <td>4</td>\n",
       "      <td>4</td>\n",
       "      <td>4</td>\n",
       "    </tr>\n",
       "    <tr>\n",
       "      <th>2018-02-10</th>\n",
       "      <td>1</td>\n",
       "      <td>1</td>\n",
       "      <td>1</td>\n",
       "      <td>1</td>\n",
       "      <td>1</td>\n",
       "      <td>1</td>\n",
       "      <td>1</td>\n",
       "      <td>1</td>\n",
       "      <td>1</td>\n",
       "      <td>1</td>\n",
       "    </tr>\n",
       "    <tr>\n",
       "      <th>2018-02-26</th>\n",
       "      <td>1</td>\n",
       "      <td>1</td>\n",
       "      <td>1</td>\n",
       "      <td>1</td>\n",
       "      <td>1</td>\n",
       "      <td>1</td>\n",
       "      <td>1</td>\n",
       "      <td>1</td>\n",
       "      <td>1</td>\n",
       "      <td>1</td>\n",
       "    </tr>\n",
       "    <tr>\n",
       "      <th>2018-03-03</th>\n",
       "      <td>1</td>\n",
       "      <td>1</td>\n",
       "      <td>1</td>\n",
       "      <td>1</td>\n",
       "      <td>1</td>\n",
       "      <td>1</td>\n",
       "      <td>1</td>\n",
       "      <td>1</td>\n",
       "      <td>1</td>\n",
       "      <td>1</td>\n",
       "    </tr>\n",
       "  </tbody>\n",
       "</table>\n",
       "<p>4764 rows × 10 columns</p>\n",
       "</div>"
      ],
      "text/plain": [
       "            start.time  peak  end  duration.s  peak.c/s  total.counts  \\\n",
       "start.date                                                              \n",
       "2002-02-12           2     2    2           2         2             2   \n",
       "2002-02-13          10    10   10          10        10            10   \n",
       "2002-02-14          11    11   11          11        11            11   \n",
       "2002-02-15           1     1    1           1         1             1   \n",
       "2002-02-16           3     3    3           3         3             3   \n",
       "...                ...   ...  ...         ...       ...           ...   \n",
       "2018-02-08           3     3    3           3         3             3   \n",
       "2018-02-09           4     4    4           4         4             4   \n",
       "2018-02-10           1     1    1           1         1             1   \n",
       "2018-02-26           1     1    1           1         1             1   \n",
       "2018-03-03           1     1    1           1         1             1   \n",
       "\n",
       "            energy.kev  x.pos.asec  y.pos.asec  radial  \n",
       "start.date                                              \n",
       "2002-02-12           2           2           2       2  \n",
       "2002-02-13          10          10          10      10  \n",
       "2002-02-14          11          11          11      11  \n",
       "2002-02-15           1           1           1       1  \n",
       "2002-02-16           3           3           3       3  \n",
       "...                ...         ...         ...     ...  \n",
       "2018-02-08           3           3           3       3  \n",
       "2018-02-09           4           4           4       4  \n",
       "2018-02-10           1           1           1       1  \n",
       "2018-02-26           1           1           1       1  \n",
       "2018-03-03           1           1           1       1  \n",
       "\n",
       "[4764 rows x 10 columns]"
      ]
     },
     "execution_count": 7,
     "metadata": {},
     "output_type": "execute_result"
    }
   ],
   "source": [
    "solar_df.groupby('start.date').count()"
   ]
  },
  {
   "cell_type": "markdown",
   "metadata": {},
   "source": [
    "### Parse data"
   ]
  },
  {
   "cell_type": "code",
   "execution_count": 8,
   "metadata": {},
   "outputs": [],
   "source": [
    "# parse date, time\n",
    "def parse_date(sdatex, stimex):\n",
    "        datex = datetime.strptime(sdatex, '%Y-%m-%d')\n",
    "        timex = datetime.strptime(stimex, '%H:%M:%S')\n",
    "        return datetime(datex.year,datex.month,datex.day,timex.hour,timex.minute,timex.second)"
   ]
  },
  {
   "cell_type": "code",
   "execution_count": 9,
   "metadata": {},
   "outputs": [],
   "source": [
    "# Adding year, month, day, start date, peak date, end date and dropping earlier columns\n",
    "solar_df['dt.start'] = solar_df[['start.date','start.time']].apply(lambda x: parse_date(x[0],x[1]), axis=1)\n",
    "solar_df['dt.peak'] = solar_df[['start.date','peak']].apply(lambda x: parse_date(x[0],x[1]), axis=1)\n",
    "solar_df['dt.end'] = solar_df[['start.date','end']].apply(lambda x: parse_date(x[0],x[1]), axis=1)\n",
    "\n",
    "solar_df.drop(['start.date','start.time','peak','end'], axis=1, inplace=True)\n",
    "\n",
    "# add new columns\n",
    "solar_df['year'] = solar_df['dt.start'].apply(lambda col: col.year)\n",
    "solar_df['month'] = solar_df['dt.start'].apply(lambda col: col.month)\n",
    "solar_df['day'] = solar_df['dt.start'].apply(lambda col: col.day)"
   ]
  },
  {
   "cell_type": "code",
   "execution_count": 10,
   "metadata": {},
   "outputs": [
    {
     "data": {
      "text/plain": [
       "Index(['duration.s', 'peak.c/s', 'total.counts', 'energy.kev', 'x.pos.asec',\n",
       "       'y.pos.asec', 'radial', 'dt.start', 'dt.peak', 'dt.end', 'year',\n",
       "       'month', 'day'],\n",
       "      dtype='object')"
      ]
     },
     "execution_count": 10,
     "metadata": {},
     "output_type": "execute_result"
    }
   ],
   "source": [
    "solar_df.columns"
   ]
  },
  {
   "cell_type": "code",
   "execution_count": 11,
   "metadata": {},
   "outputs": [],
   "source": [
    "solar_df = solar_df.rename(columns={'duration.s': 'duration', 'peak.c/s': 'peak_c_s', 'total.counts': 'total_counts', \n",
    "                                    'energy.kev': 'energy_kev', 'x.pos.asec': 'x_pos', 'y.pos.asec': 'y_pos', \n",
    "                                    'dt.start': 'date_start', 'dt.peak':'date_peak', 'dt.end': 'date_end'})"
   ]
  },
  {
   "cell_type": "code",
   "execution_count": 12,
   "metadata": {},
   "outputs": [
    {
     "data": {
      "text/plain": [
       "Index(['duration', 'peak_c_s', 'total_counts', 'energy_kev', 'x_pos', 'y_pos',\n",
       "       'radial', 'date_start', 'date_peak', 'date_end', 'year', 'month',\n",
       "       'day'],\n",
       "      dtype='object')"
      ]
     },
     "execution_count": 12,
     "metadata": {},
     "output_type": "execute_result"
    }
   ],
   "source": [
    "solar_df.columns"
   ]
  },
  {
   "cell_type": "code",
   "execution_count": 13,
   "metadata": {},
   "outputs": [
    {
     "data": {
      "text/html": [
       "<div>\n",
       "<style scoped>\n",
       "    .dataframe tbody tr th:only-of-type {\n",
       "        vertical-align: middle;\n",
       "    }\n",
       "\n",
       "    .dataframe tbody tr th {\n",
       "        vertical-align: top;\n",
       "    }\n",
       "\n",
       "    .dataframe thead th {\n",
       "        text-align: right;\n",
       "    }\n",
       "</style>\n",
       "<table border=\"1\" class=\"dataframe\">\n",
       "  <thead>\n",
       "    <tr style=\"text-align: right;\">\n",
       "      <th></th>\n",
       "      <th>duration</th>\n",
       "      <th>peak_c_s</th>\n",
       "      <th>total_counts</th>\n",
       "      <th>energy_kev</th>\n",
       "      <th>x_pos</th>\n",
       "      <th>y_pos</th>\n",
       "      <th>radial</th>\n",
       "      <th>date_start</th>\n",
       "      <th>date_peak</th>\n",
       "      <th>date_end</th>\n",
       "      <th>year</th>\n",
       "      <th>month</th>\n",
       "      <th>day</th>\n",
       "    </tr>\n",
       "    <tr>\n",
       "      <th>flare</th>\n",
       "      <th></th>\n",
       "      <th></th>\n",
       "      <th></th>\n",
       "      <th></th>\n",
       "      <th></th>\n",
       "      <th></th>\n",
       "      <th></th>\n",
       "      <th></th>\n",
       "      <th></th>\n",
       "      <th></th>\n",
       "      <th></th>\n",
       "      <th></th>\n",
       "      <th></th>\n",
       "    </tr>\n",
       "  </thead>\n",
       "  <tbody>\n",
       "    <tr>\n",
       "      <th>2021213</th>\n",
       "      <td>712</td>\n",
       "      <td>136</td>\n",
       "      <td>167304.0</td>\n",
       "      <td>12-25</td>\n",
       "      <td>592</td>\n",
       "      <td>-358</td>\n",
       "      <td>692</td>\n",
       "      <td>2002-02-12 21:29:56</td>\n",
       "      <td>2002-02-12 21:33:38</td>\n",
       "      <td>2002-02-12 21:41:48</td>\n",
       "      <td>2002</td>\n",
       "      <td>2</td>\n",
       "      <td>12</td>\n",
       "    </tr>\n",
       "    <tr>\n",
       "      <th>2021228</th>\n",
       "      <td>288</td>\n",
       "      <td>7</td>\n",
       "      <td>9504.0</td>\n",
       "      <td>6-12</td>\n",
       "      <td>604</td>\n",
       "      <td>-341</td>\n",
       "      <td>694</td>\n",
       "      <td>2002-02-12 21:44:08</td>\n",
       "      <td>2002-02-12 21:45:06</td>\n",
       "      <td>2002-02-12 21:48:56</td>\n",
       "      <td>2002</td>\n",
       "      <td>2</td>\n",
       "      <td>12</td>\n",
       "    </tr>\n",
       "    <tr>\n",
       "      <th>2021332</th>\n",
       "      <td>216</td>\n",
       "      <td>15</td>\n",
       "      <td>11448.0</td>\n",
       "      <td>6-12</td>\n",
       "      <td>-310</td>\n",
       "      <td>375</td>\n",
       "      <td>487</td>\n",
       "      <td>2002-02-13 00:53:24</td>\n",
       "      <td>2002-02-13 00:54:54</td>\n",
       "      <td>2002-02-13 00:57:00</td>\n",
       "      <td>2002</td>\n",
       "      <td>2</td>\n",
       "      <td>13</td>\n",
       "    </tr>\n",
       "    <tr>\n",
       "      <th>2021308</th>\n",
       "      <td>244</td>\n",
       "      <td>20</td>\n",
       "      <td>17400.0</td>\n",
       "      <td>12-25</td>\n",
       "      <td>-277</td>\n",
       "      <td>378</td>\n",
       "      <td>469</td>\n",
       "      <td>2002-02-13 04:22:52</td>\n",
       "      <td>2002-02-13 04:23:50</td>\n",
       "      <td>2002-02-13 04:26:56</td>\n",
       "      <td>2002</td>\n",
       "      <td>2</td>\n",
       "      <td>13</td>\n",
       "    </tr>\n",
       "    <tr>\n",
       "      <th>2021310</th>\n",
       "      <td>236</td>\n",
       "      <td>336</td>\n",
       "      <td>313392.0</td>\n",
       "      <td>25-50</td>\n",
       "      <td>-272</td>\n",
       "      <td>390</td>\n",
       "      <td>476</td>\n",
       "      <td>2002-02-13 07:03:52</td>\n",
       "      <td>2002-02-13 07:05:14</td>\n",
       "      <td>2002-02-13 07:07:48</td>\n",
       "      <td>2002</td>\n",
       "      <td>2</td>\n",
       "      <td>13</td>\n",
       "    </tr>\n",
       "    <tr>\n",
       "      <th>...</th>\n",
       "      <td>...</td>\n",
       "      <td>...</td>\n",
       "      <td>...</td>\n",
       "      <td>...</td>\n",
       "      <td>...</td>\n",
       "      <td>...</td>\n",
       "      <td>...</td>\n",
       "      <td>...</td>\n",
       "      <td>...</td>\n",
       "      <td>...</td>\n",
       "      <td>...</td>\n",
       "      <td>...</td>\n",
       "      <td>...</td>\n",
       "    </tr>\n",
       "    <tr>\n",
       "      <th>18020903</th>\n",
       "      <td>124</td>\n",
       "      <td>18</td>\n",
       "      <td>2888.0</td>\n",
       "      <td>6-12</td>\n",
       "      <td>-345</td>\n",
       "      <td>-38</td>\n",
       "      <td>347</td>\n",
       "      <td>2018-02-09 16:41:28</td>\n",
       "      <td>2018-02-09 16:42:54</td>\n",
       "      <td>2018-02-09 16:43:32</td>\n",
       "      <td>2018</td>\n",
       "      <td>2</td>\n",
       "      <td>9</td>\n",
       "    </tr>\n",
       "    <tr>\n",
       "      <th>18020904</th>\n",
       "      <td>104</td>\n",
       "      <td>16</td>\n",
       "      <td>1656.0</td>\n",
       "      <td>6-12</td>\n",
       "      <td>-268</td>\n",
       "      <td>-38</td>\n",
       "      <td>271</td>\n",
       "      <td>2018-02-09 18:15:56</td>\n",
       "      <td>2018-02-09 18:17:26</td>\n",
       "      <td>2018-02-09 18:17:40</td>\n",
       "      <td>2018</td>\n",
       "      <td>2</td>\n",
       "      <td>9</td>\n",
       "    </tr>\n",
       "    <tr>\n",
       "      <th>18021001</th>\n",
       "      <td>148</td>\n",
       "      <td>15</td>\n",
       "      <td>2224.0</td>\n",
       "      <td>6-12</td>\n",
       "      <td>-115</td>\n",
       "      <td>-38</td>\n",
       "      <td>121</td>\n",
       "      <td>2018-02-10 13:04:36</td>\n",
       "      <td>2018-02-10 13:06:46</td>\n",
       "      <td>2018-02-10 13:07:04</td>\n",
       "      <td>2018</td>\n",
       "      <td>2</td>\n",
       "      <td>10</td>\n",
       "    </tr>\n",
       "    <tr>\n",
       "      <th>18022601</th>\n",
       "      <td>236</td>\n",
       "      <td>16</td>\n",
       "      <td>3312.0</td>\n",
       "      <td>6-12</td>\n",
       "      <td>115</td>\n",
       "      <td>192</td>\n",
       "      <td>223</td>\n",
       "      <td>2018-02-26 15:49:56</td>\n",
       "      <td>2018-02-26 15:51:18</td>\n",
       "      <td>2018-02-26 15:53:52</td>\n",
       "      <td>2018</td>\n",
       "      <td>2</td>\n",
       "      <td>26</td>\n",
       "    </tr>\n",
       "    <tr>\n",
       "      <th>18030301</th>\n",
       "      <td>492</td>\n",
       "      <td>42</td>\n",
       "      <td>15816.0</td>\n",
       "      <td>6-12</td>\n",
       "      <td>926</td>\n",
       "      <td>128</td>\n",
       "      <td>935</td>\n",
       "      <td>2018-03-03 04:04:08</td>\n",
       "      <td>2018-03-03 04:06:22</td>\n",
       "      <td>2018-03-03 04:12:20</td>\n",
       "      <td>2018</td>\n",
       "      <td>3</td>\n",
       "      <td>3</td>\n",
       "    </tr>\n",
       "  </tbody>\n",
       "</table>\n",
       "<p>116014 rows × 13 columns</p>\n",
       "</div>"
      ],
      "text/plain": [
       "          duration  peak_c_s  total_counts energy_kev  x_pos  y_pos  radial  \\\n",
       "flare                                                                         \n",
       "2021213        712       136      167304.0      12-25    592   -358     692   \n",
       "2021228        288         7        9504.0       6-12    604   -341     694   \n",
       "2021332        216        15       11448.0       6-12   -310    375     487   \n",
       "2021308        244        20       17400.0      12-25   -277    378     469   \n",
       "2021310        236       336      313392.0      25-50   -272    390     476   \n",
       "...            ...       ...           ...        ...    ...    ...     ...   \n",
       "18020903       124        18        2888.0       6-12   -345    -38     347   \n",
       "18020904       104        16        1656.0       6-12   -268    -38     271   \n",
       "18021001       148        15        2224.0       6-12   -115    -38     121   \n",
       "18022601       236        16        3312.0       6-12    115    192     223   \n",
       "18030301       492        42       15816.0       6-12    926    128     935   \n",
       "\n",
       "                  date_start           date_peak            date_end  year  \\\n",
       "flare                                                                        \n",
       "2021213  2002-02-12 21:29:56 2002-02-12 21:33:38 2002-02-12 21:41:48  2002   \n",
       "2021228  2002-02-12 21:44:08 2002-02-12 21:45:06 2002-02-12 21:48:56  2002   \n",
       "2021332  2002-02-13 00:53:24 2002-02-13 00:54:54 2002-02-13 00:57:00  2002   \n",
       "2021308  2002-02-13 04:22:52 2002-02-13 04:23:50 2002-02-13 04:26:56  2002   \n",
       "2021310  2002-02-13 07:03:52 2002-02-13 07:05:14 2002-02-13 07:07:48  2002   \n",
       "...                      ...                 ...                 ...   ...   \n",
       "18020903 2018-02-09 16:41:28 2018-02-09 16:42:54 2018-02-09 16:43:32  2018   \n",
       "18020904 2018-02-09 18:15:56 2018-02-09 18:17:26 2018-02-09 18:17:40  2018   \n",
       "18021001 2018-02-10 13:04:36 2018-02-10 13:06:46 2018-02-10 13:07:04  2018   \n",
       "18022601 2018-02-26 15:49:56 2018-02-26 15:51:18 2018-02-26 15:53:52  2018   \n",
       "18030301 2018-03-03 04:04:08 2018-03-03 04:06:22 2018-03-03 04:12:20  2018   \n",
       "\n",
       "          month  day  \n",
       "flare                 \n",
       "2021213       2   12  \n",
       "2021228       2   12  \n",
       "2021332       2   13  \n",
       "2021308       2   13  \n",
       "2021310       2   13  \n",
       "...         ...  ...  \n",
       "18020903      2    9  \n",
       "18020904      2    9  \n",
       "18021001      2   10  \n",
       "18022601      2   26  \n",
       "18030301      3    3  \n",
       "\n",
       "[116014 rows x 13 columns]"
      ]
     },
     "execution_count": 13,
     "metadata": {},
     "output_type": "execute_result"
    }
   ],
   "source": [
    "solar_df"
   ]
  },
  {
   "cell_type": "code",
   "execution_count": 14,
   "metadata": {},
   "outputs": [],
   "source": [
    "# Enumerating energy range values from str to category\n",
    "category = {'3-6': 0, '6-12': 1, '12-25': 2, '25-50': 3, '50-100': 4, '100-300': 5, '300-800': 6, '800-7000': 7, '7000-20000': 8}\n",
    "solar_df['energy_kev'] = solar_df['energy_kev'].map(category)"
   ]
  },
  {
   "cell_type": "code",
   "execution_count": 15,
   "metadata": {},
   "outputs": [],
   "source": [
    "# Deal with the skewed duration data using log transform\n",
    "solar_df['duration'] = np.log1p(solar_df['duration'])"
   ]
  },
  {
   "cell_type": "code",
   "execution_count": 16,
   "metadata": {},
   "outputs": [
    {
     "name": "stderr",
     "output_type": "stream",
     "text": [
      "/opt/homebrew/Caskroom/miniforge/base/envs/cse258/lib/python3.9/site-packages/seaborn/distributions.py:2619: FutureWarning: `distplot` is a deprecated function and will be removed in a future version. Please adapt your code to use either `displot` (a figure-level function with similar flexibility) or `histplot` (an axes-level function for histograms).\n",
      "  warnings.warn(msg, FutureWarning)\n"
     ]
    },
    {
     "data": {
      "text/plain": [
       "<AxesSubplot:title={'center':'Distribution of duration'}, xlabel='duration'>"
      ]
     },
     "execution_count": 16,
     "metadata": {},
     "output_type": "execute_result"
    },
    {
     "data": {
      "image/png": "[encoded data removed]",
      "text/plain": [
       "<Figure size 648x504 with 1 Axes>"
      ]
     },
     "metadata": {
      "needs_background": "light"
     },
     "output_type": "display_data"
    }
   ],
   "source": [
    "plt.figure(figsize=(9,7))\n",
    "plt.title('Distribution of duration')\n",
    "sns.distplot(solar_df['duration'], kde=False,fit=stats.norm)"
   ]
  },
  {
   "cell_type": "code",
   "execution_count": 17,
   "metadata": {},
   "outputs": [],
   "source": [
    "solar_df = solar_df.drop(['date_start', 'date_peak', 'date_end'], axis=1)"
   ]
  },
  {
   "cell_type": "code",
   "execution_count": 18,
   "metadata": {},
   "outputs": [
    {
     "data": {
      "text/html": [
       "<div>\n",
       "<style scoped>\n",
       "    .dataframe tbody tr th:only-of-type {\n",
       "        vertical-align: middle;\n",
       "    }\n",
       "\n",
       "    .dataframe tbody tr th {\n",
       "        vertical-align: top;\n",
       "    }\n",
       "\n",
       "    .dataframe thead th {\n",
       "        text-align: right;\n",
       "    }\n",
       "</style>\n",
       "<table border=\"1\" class=\"dataframe\">\n",
       "  <thead>\n",
       "    <tr style=\"text-align: right;\">\n",
       "      <th></th>\n",
       "      <th>duration</th>\n",
       "      <th>peak_c_s</th>\n",
       "      <th>total_counts</th>\n",
       "      <th>energy_kev</th>\n",
       "      <th>x_pos</th>\n",
       "      <th>y_pos</th>\n",
       "      <th>radial</th>\n",
       "      <th>year</th>\n",
       "      <th>month</th>\n",
       "      <th>day</th>\n",
       "    </tr>\n",
       "    <tr>\n",
       "      <th>flare</th>\n",
       "      <th></th>\n",
       "      <th></th>\n",
       "      <th></th>\n",
       "      <th></th>\n",
       "      <th></th>\n",
       "      <th></th>\n",
       "      <th></th>\n",
       "      <th></th>\n",
       "      <th></th>\n",
       "      <th></th>\n",
       "    </tr>\n",
       "  </thead>\n",
       "  <tbody>\n",
       "    <tr>\n",
       "      <th>2021213</th>\n",
       "      <td>6.569481</td>\n",
       "      <td>136</td>\n",
       "      <td>167304.0</td>\n",
       "      <td>2</td>\n",
       "      <td>592</td>\n",
       "      <td>-358</td>\n",
       "      <td>692</td>\n",
       "      <td>2002</td>\n",
       "      <td>2</td>\n",
       "      <td>12</td>\n",
       "    </tr>\n",
       "    <tr>\n",
       "      <th>2021228</th>\n",
       "      <td>5.666427</td>\n",
       "      <td>7</td>\n",
       "      <td>9504.0</td>\n",
       "      <td>1</td>\n",
       "      <td>604</td>\n",
       "      <td>-341</td>\n",
       "      <td>694</td>\n",
       "      <td>2002</td>\n",
       "      <td>2</td>\n",
       "      <td>12</td>\n",
       "    </tr>\n",
       "    <tr>\n",
       "      <th>2021332</th>\n",
       "      <td>5.379897</td>\n",
       "      <td>15</td>\n",
       "      <td>11448.0</td>\n",
       "      <td>1</td>\n",
       "      <td>-310</td>\n",
       "      <td>375</td>\n",
       "      <td>487</td>\n",
       "      <td>2002</td>\n",
       "      <td>2</td>\n",
       "      <td>13</td>\n",
       "    </tr>\n",
       "    <tr>\n",
       "      <th>2021308</th>\n",
       "      <td>5.501258</td>\n",
       "      <td>20</td>\n",
       "      <td>17400.0</td>\n",
       "      <td>2</td>\n",
       "      <td>-277</td>\n",
       "      <td>378</td>\n",
       "      <td>469</td>\n",
       "      <td>2002</td>\n",
       "      <td>2</td>\n",
       "      <td>13</td>\n",
       "    </tr>\n",
       "    <tr>\n",
       "      <th>2021310</th>\n",
       "      <td>5.468060</td>\n",
       "      <td>336</td>\n",
       "      <td>313392.0</td>\n",
       "      <td>3</td>\n",
       "      <td>-272</td>\n",
       "      <td>390</td>\n",
       "      <td>476</td>\n",
       "      <td>2002</td>\n",
       "      <td>2</td>\n",
       "      <td>13</td>\n",
       "    </tr>\n",
       "  </tbody>\n",
       "</table>\n",
       "</div>"
      ],
      "text/plain": [
       "         duration  peak_c_s  total_counts  energy_kev  x_pos  y_pos  radial  \\\n",
       "flare                                                                         \n",
       "2021213  6.569481       136      167304.0           2    592   -358     692   \n",
       "2021228  5.666427         7        9504.0           1    604   -341     694   \n",
       "2021332  5.379897        15       11448.0           1   -310    375     487   \n",
       "2021308  5.501258        20       17400.0           2   -277    378     469   \n",
       "2021310  5.468060       336      313392.0           3   -272    390     476   \n",
       "\n",
       "         year  month  day  \n",
       "flare                      \n",
       "2021213  2002      2   12  \n",
       "2021228  2002      2   12  \n",
       "2021332  2002      2   13  \n",
       "2021308  2002      2   13  \n",
       "2021310  2002      2   13  "
      ]
     },
     "execution_count": 18,
     "metadata": {},
     "output_type": "execute_result"
    }
   ],
   "source": [
    "solar_df.head(5)"
   ]
  },
  {
   "cell_type": "code",
   "execution_count": 19,
   "metadata": {},
   "outputs": [
    {
     "data": {
      "text/plain": [
       "duration        float64\n",
       "peak_c_s          int64\n",
       "total_counts    float64\n",
       "energy_kev        int64\n",
       "x_pos             int64\n",
       "y_pos             int64\n",
       "radial            int64\n",
       "year              int64\n",
       "month             int64\n",
       "day               int64\n",
       "dtype: object"
      ]
     },
     "execution_count": 19,
     "metadata": {},
     "output_type": "execute_result"
    }
   ],
   "source": [
    "solar_df.dtypes"
   ]
  },
  {
   "cell_type": "markdown",
   "metadata": {},
   "source": [
    "### Create Train/Test Set"
   ]
  },
  {
   "cell_type": "code",
   "execution_count": 20,
   "metadata": {},
   "outputs": [],
   "source": [
    "pd_df = solar_df.copy(deep=True)"
   ]
  },
  {
   "cell_type": "code",
   "execution_count": 21,
   "metadata": {},
   "outputs": [
    {
     "data": {
      "text/html": [
       "<div>\n",
       "<style scoped>\n",
       "    .dataframe tbody tr th:only-of-type {\n",
       "        vertical-align: middle;\n",
       "    }\n",
       "\n",
       "    .dataframe tbody tr th {\n",
       "        vertical-align: top;\n",
       "    }\n",
       "\n",
       "    .dataframe thead th {\n",
       "        text-align: right;\n",
       "    }\n",
       "</style>\n",
       "<table border=\"1\" class=\"dataframe\">\n",
       "  <thead>\n",
       "    <tr style=\"text-align: right;\">\n",
       "      <th></th>\n",
       "      <th>duration</th>\n",
       "      <th>peak_c_s</th>\n",
       "      <th>total_counts</th>\n",
       "      <th>energy_kev</th>\n",
       "      <th>x_pos</th>\n",
       "      <th>y_pos</th>\n",
       "      <th>radial</th>\n",
       "      <th>year</th>\n",
       "      <th>month</th>\n",
       "      <th>day</th>\n",
       "    </tr>\n",
       "    <tr>\n",
       "      <th>flare</th>\n",
       "      <th></th>\n",
       "      <th></th>\n",
       "      <th></th>\n",
       "      <th></th>\n",
       "      <th></th>\n",
       "      <th></th>\n",
       "      <th></th>\n",
       "      <th></th>\n",
       "      <th></th>\n",
       "      <th></th>\n",
       "    </tr>\n",
       "  </thead>\n",
       "  <tbody>\n",
       "    <tr>\n",
       "      <th>2021213</th>\n",
       "      <td>6.569481</td>\n",
       "      <td>136</td>\n",
       "      <td>167304.0</td>\n",
       "      <td>2</td>\n",
       "      <td>592</td>\n",
       "      <td>-358</td>\n",
       "      <td>692</td>\n",
       "      <td>2002</td>\n",
       "      <td>2</td>\n",
       "      <td>12</td>\n",
       "    </tr>\n",
       "    <tr>\n",
       "      <th>2021228</th>\n",
       "      <td>5.666427</td>\n",
       "      <td>7</td>\n",
       "      <td>9504.0</td>\n",
       "      <td>1</td>\n",
       "      <td>604</td>\n",
       "      <td>-341</td>\n",
       "      <td>694</td>\n",
       "      <td>2002</td>\n",
       "      <td>2</td>\n",
       "      <td>12</td>\n",
       "    </tr>\n",
       "    <tr>\n",
       "      <th>2021332</th>\n",
       "      <td>5.379897</td>\n",
       "      <td>15</td>\n",
       "      <td>11448.0</td>\n",
       "      <td>1</td>\n",
       "      <td>-310</td>\n",
       "      <td>375</td>\n",
       "      <td>487</td>\n",
       "      <td>2002</td>\n",
       "      <td>2</td>\n",
       "      <td>13</td>\n",
       "    </tr>\n",
       "    <tr>\n",
       "      <th>2021308</th>\n",
       "      <td>5.501258</td>\n",
       "      <td>20</td>\n",
       "      <td>17400.0</td>\n",
       "      <td>2</td>\n",
       "      <td>-277</td>\n",
       "      <td>378</td>\n",
       "      <td>469</td>\n",
       "      <td>2002</td>\n",
       "      <td>2</td>\n",
       "      <td>13</td>\n",
       "    </tr>\n",
       "    <tr>\n",
       "      <th>2021310</th>\n",
       "      <td>5.468060</td>\n",
       "      <td>336</td>\n",
       "      <td>313392.0</td>\n",
       "      <td>3</td>\n",
       "      <td>-272</td>\n",
       "      <td>390</td>\n",
       "      <td>476</td>\n",
       "      <td>2002</td>\n",
       "      <td>2</td>\n",
       "      <td>13</td>\n",
       "    </tr>\n",
       "  </tbody>\n",
       "</table>\n",
       "</div>"
      ],
      "text/plain": [
       "         duration  peak_c_s  total_counts  energy_kev  x_pos  y_pos  radial  \\\n",
       "flare                                                                         \n",
       "2021213  6.569481       136      167304.0           2    592   -358     692   \n",
       "2021228  5.666427         7        9504.0           1    604   -341     694   \n",
       "2021332  5.379897        15       11448.0           1   -310    375     487   \n",
       "2021308  5.501258        20       17400.0           2   -277    378     469   \n",
       "2021310  5.468060       336      313392.0           3   -272    390     476   \n",
       "\n",
       "         year  month  day  \n",
       "flare                      \n",
       "2021213  2002      2   12  \n",
       "2021228  2002      2   12  \n",
       "2021332  2002      2   13  \n",
       "2021308  2002      2   13  \n",
       "2021310  2002      2   13  "
      ]
     },
     "execution_count": 21,
     "metadata": {},
     "output_type": "execute_result"
    }
   ],
   "source": [
    "pd_df.head(5)"
   ]
  },
  {
   "cell_type": "code",
   "execution_count": 22,
   "metadata": {},
   "outputs": [],
   "source": [
    "from sklearn.model_selection import train_test_split\n",
    "X_train, X_test = train_test_split(pd_df, test_size=0.2)"
   ]
  },
  {
   "cell_type": "code",
   "execution_count": 23,
   "metadata": {},
   "outputs": [
    {
     "data": {
      "text/plain": [
       "((92811, 10), (23203, 10))"
      ]
     },
     "execution_count": 23,
     "metadata": {},
     "output_type": "execute_result"
    }
   ],
   "source": [
    "X_train.shape, X_test.shape"
   ]
  },
  {
   "cell_type": "markdown",
   "metadata": {},
   "source": [
    "### Predcition for energy_kev\n",
    "Best result - Random Forest 0.8654"
   ]
  },
  {
   "cell_type": "code",
   "execution_count": 24,
   "metadata": {},
   "outputs": [],
   "source": [
    "y_train_energy = X_train['energy_kev']\n",
    "X_train_energy = X_train.drop(['energy_kev', 'duration'], axis=1)\n",
    "\n",
    "y_test_energy = X_test['energy_kev']\n",
    "X_test_energy = X_test.drop(['energy_kev', 'duration'], axis=1)"
   ]
  },
  {
   "cell_type": "code",
   "execution_count": 25,
   "metadata": {},
   "outputs": [
    {
     "name": "stderr",
     "output_type": "stream",
     "text": [
      "/opt/homebrew/Caskroom/miniforge/base/envs/cse258/lib/python3.9/site-packages/sklearn/linear_model/_logistic.py:814: ConvergenceWarning: lbfgs failed to converge (status=1):\n",
      "STOP: TOTAL NO. of ITERATIONS REACHED LIMIT.\n",
      "\n",
      "Increase the number of iterations (max_iter) or scale the data as shown in:\n",
      "    https://scikit-learn.org/stable/modules/preprocessing.html\n",
      "Please also refer to the documentation for alternative solver options:\n",
      "    https://scikit-learn.org/stable/modules/linear_model.html#logistic-regression\n",
      "  n_iter_i = _check_optimize_result(\n"
     ]
    },
    {
     "data": {
      "text/plain": [
       "(0.774770503814162, 0.7750589908523774)"
      ]
     },
     "execution_count": 25,
     "metadata": {},
     "output_type": "execute_result"
    }
   ],
   "source": [
    "# Logistic Regression\n",
    "from sklearn.linear_model import LogisticRegression\n",
    "logistic_regression = LogisticRegression().fit(X_train_energy, y_train_energy)\n",
    "logistic_regression_predictions = logistic_regression.predict(X_test_energy)\n",
    "logistic_regression_score = logistic_regression.score(X_test_energy, y_test_energy)\n",
    "logistic_regression_score_train = logistic_regression.score(X_train_energy, y_train_energy)\n",
    "logistic_regression_score, logistic_regression_score_train"
   ]
  },
  {
   "cell_type": "code",
   "execution_count": 26,
   "metadata": {},
   "outputs": [
    {
     "data": {
      "text/plain": [
       "(0.8024393397405508, 1.0)"
      ]
     },
     "execution_count": 26,
     "metadata": {},
     "output_type": "execute_result"
    }
   ],
   "source": [
    "# Decision Tree Classifier\n",
    "from sklearn.tree import DecisionTreeClassifier\n",
    "decision_tree_classifier = DecisionTreeClassifier().fit(X_train_energy, y_train_energy)\n",
    "decision_tree_predictions = decision_tree_classifier.predict(X_test_energy)\n",
    "decision_tree_score = decision_tree_classifier.score(X_test_energy, y_test_energy)\n",
    "decision_tree_score_train = decision_tree_classifier.score(X_train_energy, y_train_energy)\n",
    "decision_tree_score, decision_tree_score_train"
   ]
  },
  {
   "cell_type": "code",
   "execution_count": 27,
   "metadata": {},
   "outputs": [
    {
     "data": {
      "text/plain": [
       "(0.8654484333922338, 0.9999676762452726)"
      ]
     },
     "execution_count": 27,
     "metadata": {},
     "output_type": "execute_result"
    }
   ],
   "source": [
    "# Random Forest\n",
    "from sklearn.ensemble import RandomForestClassifier\n",
    "random_forest_classifier = RandomForestClassifier(n_jobs=-1).fit(X_train_energy, y_train_energy)\n",
    "random_forest_predictions = random_forest_classifier.predict(X_test_energy)\n",
    "random_forest_score = random_forest_classifier.score(X_test_energy, y_test_energy)\n",
    "random_forest_score_train = random_forest_classifier.score(X_train_energy, y_train_energy)\n",
    "random_forest_score, random_forest_score_train"
   ]
  },
  {
   "cell_type": "code",
   "execution_count": 28,
   "metadata": {},
   "outputs": [
    {
     "data": {
      "text/plain": [
       "(0.7981295522130759, 0.8454385794787256)"
      ]
     },
     "execution_count": 28,
     "metadata": {},
     "output_type": "execute_result"
    }
   ],
   "source": [
    "# K-nearest Neighbors\n",
    "from sklearn.neighbors import KNeighborsClassifier\n",
    "kneighbors_classifier = KNeighborsClassifier().fit(X_train_energy, y_train_energy)\n",
    "kneighbors_predictions = kneighbors_classifier.predict(X_test_energy)\n",
    "kneighbors_score = kneighbors_classifier.score(X_test_energy, y_test_energy)\n",
    "kneighbors_score_train = kneighbors_classifier.score(X_train_energy, y_train_energy)\n",
    "kneighbors_score, kneighbors_score_train"
   ]
  },
  {
   "cell_type": "code",
   "execution_count": 29,
   "metadata": {},
   "outputs": [
    {
     "data": {
      "text/plain": [
       "(0.8604059819850881, 0.865188393617136)"
      ]
     },
     "execution_count": 29,
     "metadata": {},
     "output_type": "execute_result"
    }
   ],
   "source": [
    "# Gradient Boosting Classifier\n",
    "from sklearn.ensemble import GradientBoostingClassifier\n",
    "gradient_classifier = GradientBoostingClassifier().fit(X_train_energy, y_train_energy)\n",
    "gradient_classifier_predictions = gradient_classifier.predict(X_test_energy)\n",
    "gradient_classifier_score = gradient_classifier.score(X_test_energy, y_test_energy)\n",
    "gradient_classifier_score_train = gradient_classifier.score(X_train_energy, y_train_energy)\n",
    "gradient_classifier_score, gradient_classifier_score_train"
   ]
  },
  {
   "cell_type": "code",
   "execution_count": 30,
   "metadata": {},
   "outputs": [
    {
     "data": {
      "text/plain": [
       "(0.7471878636383227, 0.748909073277952)"
      ]
     },
     "execution_count": 30,
     "metadata": {},
     "output_type": "execute_result"
    }
   ],
   "source": [
    "# Adaboost Classifier\n",
    "from sklearn.ensemble import AdaBoostClassifier\n",
    "AdaBoost_classifier = AdaBoostClassifier().fit(X_train_energy, y_train_energy)\n",
    "AdaBoost_classifier_predictions = AdaBoost_classifier.predict(X_test_energy)\n",
    "AdaBoost_classifier_score = AdaBoost_classifier.score(X_test_energy, y_test_energy)\n",
    "AdaBoost_classifier_score_train = AdaBoost_classifier.score(X_train_energy, y_train_energy)\n",
    "AdaBoost_classifier_score, AdaBoost_classifier_score_train"
   ]
  },
  {
   "cell_type": "code",
   "execution_count": 31,
   "metadata": {},
   "outputs": [
    {
     "data": {
      "text/plain": [
       "(0.8560099987070637, 0.9863486009201495)"
      ]
     },
     "execution_count": 31,
     "metadata": {},
     "output_type": "execute_result"
    }
   ],
   "source": [
    "# Bagging Classifier\n",
    "from sklearn.ensemble import BaggingClassifier\n",
    "Bagging_classifier = BaggingClassifier().fit(X_train_energy, y_train_energy)\n",
    "Bagging_classifier_predictions = Bagging_classifier.predict(X_test_energy)\n",
    "Bagging_classifier_score = Bagging_classifier.score(X_test_energy, y_test_energy)\n",
    "Bagging_classifier_score_train = Bagging_classifier.score(X_train_energy, y_train_energy)\n",
    "Bagging_classifier_score, Bagging_classifier_score_train"
   ]
  },
  {
   "cell_type": "code",
   "execution_count": 32,
   "metadata": {},
   "outputs": [
    {
     "data": {
      "text/plain": [
       "(0.7511959660388743, 0.7526263050715971)"
      ]
     },
     "execution_count": 32,
     "metadata": {},
     "output_type": "execute_result"
    }
   ],
   "source": [
    "# Using Neural Network (scikit-learn)\n",
    "from sklearn.neural_network import MLPClassifier\n",
    "mlp_classifier = MLPClassifier(hidden_layer_sizes=(100,10)).fit(X_train_energy, y_train_energy)\n",
    "mlp_predictions = mlp_classifier.predict(X_test_energy)\n",
    "mlp_score = mlp_classifier.score(X_test_energy, y_test_energy)\n",
    "mlp_score_train = mlp_classifier.score(X_train_energy, y_train_energy)\n",
    "mlp_score, mlp_score_train"
   ]
  },
  {
   "cell_type": "markdown",
   "metadata": {},
   "source": [
    "### Prediction for duration\n",
    "Best result - Random Forest 0.8485"
   ]
  },
  {
   "cell_type": "code",
   "execution_count": 33,
   "metadata": {},
   "outputs": [],
   "source": [
    "y_train_duration = X_train['duration']\n",
    "X_train_duration = X_train.drop(['energy_kev', 'duration'], axis=1)\n",
    "\n",
    "y_test_duration = X_test['duration']\n",
    "X_test_duration = X_test.drop(['energy_kev', 'duration'], axis=1)"
   ]
  },
  {
   "cell_type": "code",
   "execution_count": 34,
   "metadata": {},
   "outputs": [
    {
     "data": {
      "text/plain": [
       "(0.7022304403176083, 0.9999999924808528)"
      ]
     },
     "execution_count": 34,
     "metadata": {},
     "output_type": "execute_result"
    }
   ],
   "source": [
    "# Decision Tree Regression\n",
    "from sklearn.tree import DecisionTreeRegressor\n",
    "decision_tree_regressor = DecisionTreeRegressor().fit(X_train_duration, y_train_duration)\n",
    "decision_tree_predictions = decision_tree_regressor.predict(X_test_duration)\n",
    "decision_tree_score = decision_tree_regressor.score(X_test_duration, y_test_duration)\n",
    "decision_tree_score_train = decision_tree_regressor.score(X_train_duration, y_train_duration)\n",
    "decision_tree_score, decision_tree_score_train"
   ]
  },
  {
   "cell_type": "code",
   "execution_count": 35,
   "metadata": {},
   "outputs": [
    {
     "data": {
      "text/plain": [
       "(0.8485275601811125, 0.978831595873602)"
      ]
     },
     "execution_count": 35,
     "metadata": {},
     "output_type": "execute_result"
    }
   ],
   "source": [
    "# Random Forest\n",
    "from sklearn.ensemble import RandomForestRegressor\n",
    "random_forest_regressor = RandomForestRegressor(n_jobs=-1).fit(X_train_duration, y_train_duration)\n",
    "random_forest_predictions = random_forest_regressor.predict(X_test_duration)\n",
    "random_forest_score = random_forest_regressor.score(X_test_duration, y_test_duration)\n",
    "random_forest_score_train = random_forest_regressor.score(X_train_duration, y_train_duration)\n",
    "random_forest_score, random_forest_score_train"
   ]
  },
  {
   "cell_type": "code",
   "execution_count": 36,
   "metadata": {},
   "outputs": [
    {
     "data": {
      "text/plain": [
       "(0.5527542535458652, 0.7041483578902605)"
      ]
     },
     "execution_count": 36,
     "metadata": {},
     "output_type": "execute_result"
    }
   ],
   "source": [
    "# K-nearest Neighbors\n",
    "from sklearn.neighbors import KNeighborsRegressor\n",
    "kneighbors_regressor = KNeighborsRegressor().fit(X_train_duration, y_train_duration)\n",
    "kneighbors_predictions = kneighbors_regressor.predict(X_test_duration)\n",
    "kneighbors_score = kneighbors_regressor.score(X_test_duration, y_test_duration)\n",
    "kneighbors_score_train = kneighbors_regressor.score(X_train_duration, y_train_duration)\n",
    "kneighbors_score, kneighbors_score_train"
   ]
  },
  {
   "cell_type": "code",
   "execution_count": 37,
   "metadata": {},
   "outputs": [
    {
     "data": {
      "text/plain": [
       "(0.8296915178765796, 0.8328101194167794)"
      ]
     },
     "execution_count": 37,
     "metadata": {},
     "output_type": "execute_result"
    }
   ],
   "source": [
    "# Gradient Boosting Regressor\n",
    "from sklearn.ensemble import GradientBoostingRegressor\n",
    "gradient_regressor = GradientBoostingRegressor().fit(X_train_duration, y_train_duration)\n",
    "gradient_regressor_predictions = gradient_regressor.predict(X_test_duration)\n",
    "gradient_regressor_score = gradient_regressor.score(X_test_duration, y_test_duration)\n",
    "gradient_regressor_score_train = gradient_regressor.score(X_train_duration, y_train_duration)\n",
    "gradient_regressor_score, gradient_regressor_score_train"
   ]
  },
  {
   "cell_type": "code",
   "execution_count": 38,
   "metadata": {},
   "outputs": [
    {
     "data": {
      "text/plain": [
       "(0.5485602018162443, 0.5408951097100183)"
      ]
     },
     "execution_count": 38,
     "metadata": {},
     "output_type": "execute_result"
    }
   ],
   "source": [
    "# Adaboost Regressor\n",
    "from sklearn.ensemble import AdaBoostRegressor\n",
    "AdaBoost_regressor = AdaBoostRegressor().fit(X_train_duration, y_train_duration)\n",
    "AdaBoost_regressor_predictions = AdaBoost_regressor.predict(X_test_duration)\n",
    "AdaBoost_regressor_score = AdaBoost_regressor.score(X_test_duration, y_test_duration)\n",
    "AdaBoost_regressor_score_train = AdaBoost_regressor.score(X_train_duration, y_train_duration)\n",
    "AdaBoost_regressor_score, AdaBoost_regressor_score_train"
   ]
  },
  {
   "cell_type": "code",
   "execution_count": 39,
   "metadata": {},
   "outputs": [
    {
     "data": {
      "text/plain": [
       "(0.8339552693018272, 0.9704549196411737)"
      ]
     },
     "execution_count": 39,
     "metadata": {},
     "output_type": "execute_result"
    }
   ],
   "source": [
    "# Bagging Regressor\n",
    "from sklearn.ensemble import BaggingRegressor\n",
    "Bagging_regressor = BaggingRegressor().fit(X_train_duration, y_train_duration)\n",
    "Bagging_regressor_predictions = Bagging_regressor.predict(X_test_duration)\n",
    "Bagging_regressor_score = Bagging_regressor.score(X_test_duration, y_test_duration)\n",
    "Bagging_regressor_score_train = Bagging_regressor.score(X_train_duration, y_train_duration)\n",
    "Bagging_regressor_score, Bagging_regressor_score_train"
   ]
  },
  {
   "cell_type": "markdown",
   "metadata": {},
   "source": [
    "### Prediction for x.pos\n",
    "Best result - Random Forest 0.6834"
   ]
  },
  {
   "cell_type": "code",
   "execution_count": 40,
   "metadata": {},
   "outputs": [],
   "source": [
    "y_train_xpos = X_train['x_pos']\n",
    "X_train_xpos = X_train.drop(['x_pos', 'y_pos'], axis=1)\n",
    "\n",
    "y_test_xpos = X_test['x_pos']\n",
    "X_test_xpos = X_test.drop(['x_pos', 'y_pos'], axis=1)"
   ]
  },
  {
   "cell_type": "code",
   "execution_count": 41,
   "metadata": {},
   "outputs": [
    {
     "data": {
      "text/plain": [
       "(0.421346948735016, 1.0)"
      ]
     },
     "execution_count": 41,
     "metadata": {},
     "output_type": "execute_result"
    }
   ],
   "source": [
    "# Decision Tree Regression\n",
    "from sklearn.tree import DecisionTreeRegressor\n",
    "decision_tree_regressor = DecisionTreeRegressor().fit(X_train_xpos, y_train_xpos)\n",
    "decision_tree_predictions = decision_tree_regressor.predict(X_test_xpos)\n",
    "decision_tree_score = decision_tree_regressor.score(X_test_xpos, y_test_xpos)\n",
    "decision_tree_score_train = decision_tree_regressor.score(X_train_xpos, y_train_xpos)\n",
    "decision_tree_score, decision_tree_score_train"
   ]
  },
  {
   "cell_type": "code",
   "execution_count": 42,
   "metadata": {},
   "outputs": [
    {
     "data": {
      "text/plain": [
       "(0.6834160221177964, 0.9566680879042647)"
      ]
     },
     "execution_count": 42,
     "metadata": {},
     "output_type": "execute_result"
    }
   ],
   "source": [
    "# Random Forest\n",
    "from sklearn.ensemble import RandomForestRegressor\n",
    "random_forest_regressor = RandomForestRegressor(n_jobs=-1).fit(X_train_xpos, y_train_xpos)\n",
    "random_forest_predictions = random_forest_regressor.predict(X_test_xpos)\n",
    "random_forest_score = random_forest_regressor.score(X_test_xpos, y_test_xpos)\n",
    "random_forest_score_train = random_forest_regressor.score(X_train_xpos, y_train_xpos)\n",
    "random_forest_score, random_forest_score_train"
   ]
  },
  {
   "cell_type": "code",
   "execution_count": 43,
   "metadata": {},
   "outputs": [
    {
     "data": {
      "text/plain": [
       "(0.6453550326926839, 0.937518047954645)"
      ]
     },
     "execution_count": 43,
     "metadata": {},
     "output_type": "execute_result"
    }
   ],
   "source": [
    "# Bagging Regressor\n",
    "from sklearn.ensemble import BaggingRegressor\n",
    "Bagging_regressor = BaggingRegressor().fit(X_train_xpos, y_train_xpos)\n",
    "Bagging_regressor_predictions = Bagging_regressor.predict(X_test_xpos)\n",
    "Bagging_regressor_score = Bagging_regressor.score(X_test_xpos, y_test_xpos)\n",
    "Bagging_regressor_score_train = Bagging_regressor.score(X_train_xpos, y_train_xpos)\n",
    "Bagging_regressor_score, Bagging_regressor_score_train"
   ]
  },
  {
   "cell_type": "markdown",
   "metadata": {},
   "source": [
    "### Prediction for y.pos\n",
    "Best result - Random Forest 0.6329"
   ]
  },
  {
   "cell_type": "code",
   "execution_count": 44,
   "metadata": {},
   "outputs": [],
   "source": [
    "y_train_ypos = X_train['y_pos']\n",
    "X_train_ypos = X_train.drop(['x_pos', 'y_pos'], axis=1)\n",
    "\n",
    "y_test_ypos = X_test['y_pos']\n",
    "X_test_ypos = X_test.drop(['x_pos', 'y_pos'], axis=1)"
   ]
  },
  {
   "cell_type": "code",
   "execution_count": 45,
   "metadata": {},
   "outputs": [
    {
     "data": {
      "text/plain": [
       "(0.3155490480268641, 1.0)"
      ]
     },
     "execution_count": 45,
     "metadata": {},
     "output_type": "execute_result"
    }
   ],
   "source": [
    "# Decision Tree Regression\n",
    "from sklearn.tree import DecisionTreeRegressor\n",
    "decision_tree_regressor = DecisionTreeRegressor().fit(X_train_ypos, y_train_ypos)\n",
    "decision_tree_predictions = decision_tree_regressor.predict(X_test_ypos)\n",
    "decision_tree_score = decision_tree_regressor.score(X_test_ypos, y_test_ypos)\n",
    "decision_tree_score_train = decision_tree_regressor.score(X_train_ypos, y_train_ypos)\n",
    "decision_tree_score, decision_tree_score_train"
   ]
  },
  {
   "cell_type": "code",
   "execution_count": 46,
   "metadata": {},
   "outputs": [
    {
     "data": {
      "text/plain": [
       "(0.6329472081334493, 0.950245396871364)"
      ]
     },
     "execution_count": 46,
     "metadata": {},
     "output_type": "execute_result"
    }
   ],
   "source": [
    "# Random Forest\n",
    "from sklearn.ensemble import RandomForestRegressor\n",
    "random_forest_regressor = RandomForestRegressor(n_jobs=-1).fit(X_train_ypos, y_train_ypos)\n",
    "random_forest_predictions = random_forest_regressor.predict(X_test_ypos)\n",
    "random_forest_score = random_forest_regressor.score(X_test_ypos, y_test_ypos)\n",
    "random_forest_score_train = random_forest_regressor.score(X_train_ypos, y_train_ypos)\n",
    "random_forest_score, random_forest_score_train"
   ]
  },
  {
   "cell_type": "code",
   "execution_count": 47,
   "metadata": {},
   "outputs": [
    {
     "data": {
      "text/plain": [
       "(0.6044076115448277, 0.9293149136107216)"
      ]
     },
     "execution_count": 47,
     "metadata": {},
     "output_type": "execute_result"
    }
   ],
   "source": [
    "# Bagging Regressor\n",
    "from sklearn.ensemble import BaggingRegressor\n",
    "Bagging_regressor = BaggingRegressor().fit(X_train_ypos, y_train_ypos)\n",
    "Bagging_regressor_predictions = Bagging_regressor.predict(X_test_ypos)\n",
    "Bagging_regressor_score = Bagging_regressor.score(X_test_ypos, y_test_ypos)\n",
    "Bagging_regressor_score_train = Bagging_regressor.score(X_train_ypos, y_train_ypos)\n",
    "Bagging_regressor_score, Bagging_regressor_score_train"
   ]
  },
  {
   "cell_type": "markdown",
   "metadata": {},
   "source": [
    "### Predict duration using x_pos, y_pos, radial, energy, total_counts, peak_c_s (w/o year month day)\n",
    "Best Result on test set - Random Forest 0.8041"
   ]
  },
  {
   "cell_type": "code",
   "execution_count": 48,
   "metadata": {},
   "outputs": [],
   "source": [
    "y_train_duration = X_train['duration']\n",
    "X_train_duration = X_train.drop(['duration', 'year', 'month', 'day'], axis=1)\n",
    "\n",
    "y_test_duration = X_test['duration']\n",
    "X_test_duration = X_test.drop(['duration', 'year', 'month', 'day'], axis=1)"
   ]
  },
  {
   "cell_type": "code",
   "execution_count": 49,
   "metadata": {},
   "outputs": [
    {
     "data": {
      "text/plain": [
       "(0.6273186138303337, 0.9999641784412273)"
      ]
     },
     "execution_count": 49,
     "metadata": {},
     "output_type": "execute_result"
    }
   ],
   "source": [
    "# Decision Tree Regression\n",
    "from sklearn.tree import DecisionTreeRegressor\n",
    "decision_tree_regressor = DecisionTreeRegressor().fit(X_train_duration, y_train_duration)\n",
    "decision_tree_predictions = decision_tree_regressor.predict(X_test_duration)\n",
    "decision_tree_score = decision_tree_regressor.score(X_test_duration, y_test_duration)\n",
    "decision_tree_score_train = decision_tree_regressor.score(X_train_duration, y_train_duration)\n",
    "decision_tree_score, decision_tree_score_train"
   ]
  },
  {
   "cell_type": "code",
   "execution_count": 50,
   "metadata": {},
   "outputs": [
    {
     "data": {
      "text/plain": [
       "(0.8041436707663675, 0.9723612600598726)"
      ]
     },
     "execution_count": 50,
     "metadata": {},
     "output_type": "execute_result"
    }
   ],
   "source": [
    "# Random Forest\n",
    "from sklearn.ensemble import RandomForestRegressor\n",
    "random_forest_regressor = RandomForestRegressor(n_jobs=-1).fit(X_train_duration, y_train_duration)\n",
    "random_forest_predictions = random_forest_regressor.predict(X_test_duration)\n",
    "random_forest_score = random_forest_regressor.score(X_test_duration, y_test_duration)\n",
    "random_forest_score_train = random_forest_regressor.score(X_train_duration, y_train_duration)\n",
    "random_forest_score, random_forest_score_train"
   ]
  },
  {
   "cell_type": "code",
   "execution_count": 51,
   "metadata": {},
   "outputs": [
    {
     "data": {
      "text/plain": [
       "(0.552922660737908, 0.7044149659284096)"
      ]
     },
     "execution_count": 51,
     "metadata": {},
     "output_type": "execute_result"
    }
   ],
   "source": [
    "# K-nearest Neighbors\n",
    "from sklearn.neighbors import KNeighborsRegressor\n",
    "kneighbors_regressor = KNeighborsRegressor().fit(X_train_duration, y_train_duration)\n",
    "kneighbors_predictions = kneighbors_regressor.predict(X_test_duration)\n",
    "kneighbors_score = kneighbors_regressor.score(X_test_duration, y_test_duration)\n",
    "kneighbors_score_train = kneighbors_regressor.score(X_train_duration, y_train_duration)\n",
    "kneighbors_score, kneighbors_score_train"
   ]
  },
  {
   "cell_type": "code",
   "execution_count": 52,
   "metadata": {},
   "outputs": [
    {
     "data": {
      "text/plain": [
       "(0.8040065701832725, 0.8083871960392541)"
      ]
     },
     "execution_count": 52,
     "metadata": {},
     "output_type": "execute_result"
    }
   ],
   "source": [
    "# Gradient Boosting Regressor\n",
    "from sklearn.ensemble import GradientBoostingRegressor\n",
    "gradient_regressor = GradientBoostingRegressor().fit(X_train_duration, y_train_duration)\n",
    "gradient_regressor_predictions = gradient_regressor.predict(X_test_duration)\n",
    "gradient_regressor_score = gradient_regressor.score(X_test_duration, y_test_duration)\n",
    "gradient_regressor_score_train = gradient_regressor.score(X_train_duration, y_train_duration)\n",
    "gradient_regressor_score, gradient_regressor_score_train"
   ]
  },
  {
   "cell_type": "code",
   "execution_count": 53,
   "metadata": {},
   "outputs": [
    {
     "data": {
      "text/plain": [
       "(0.5856554288404685, 0.5805332579678573)"
      ]
     },
     "execution_count": 53,
     "metadata": {},
     "output_type": "execute_result"
    }
   ],
   "source": [
    "# Adaboost Regressor\n",
    "from sklearn.ensemble import AdaBoostRegressor\n",
    "AdaBoost_regressor = AdaBoostRegressor().fit(X_train_duration, y_train_duration)\n",
    "AdaBoost_regressor_predictions = AdaBoost_regressor.predict(X_test_duration)\n",
    "AdaBoost_regressor_score = AdaBoost_regressor.score(X_test_duration, y_test_duration)\n",
    "AdaBoost_regressor_score_train = AdaBoost_regressor.score(X_train_duration, y_train_duration)\n",
    "AdaBoost_regressor_score, AdaBoost_regressor_score_train"
   ]
  },
  {
   "cell_type": "code",
   "execution_count": 54,
   "metadata": {},
   "outputs": [
    {
     "data": {
      "text/plain": [
       "(0.7870965887178738, 0.9623861866802573)"
      ]
     },
     "execution_count": 54,
     "metadata": {},
     "output_type": "execute_result"
    }
   ],
   "source": [
    "# Bagging Regressor\n",
    "from sklearn.ensemble import BaggingRegressor\n",
    "Bagging_regressor = BaggingRegressor().fit(X_train_duration, y_train_duration)\n",
    "Bagging_regressor_predictions = Bagging_regressor.predict(X_test_duration)\n",
    "Bagging_regressor_score = Bagging_regressor.score(X_test_duration, y_test_duration)\n",
    "Bagging_regressor_score_train = Bagging_regressor.score(X_train_duration, y_train_duration)\n",
    "Bagging_regressor_score, Bagging_regressor_score_train"
   ]
  },
  {
   "cell_type": "markdown",
   "metadata": {},
   "source": [
    "### Predict duration using x_pos, y_pos, energy_kev, total_counts\n",
    "Best result - Gradient Boosting 0.5982"
   ]
  },
  {
   "cell_type": "code",
   "execution_count": 62,
   "metadata": {},
   "outputs": [],
   "source": [
    "y_train_duration = X_train['duration']\n",
    "X_train_duration = X_train[['x_pos', 'y_pos', 'energy_kev', 'total_counts']]\n",
    "\n",
    "y_test_duration = X_test['duration']\n",
    "X_test_duration = X_test[['x_pos', 'y_pos', 'energy_kev', 'total_counts']]"
   ]
  },
  {
   "cell_type": "code",
   "execution_count": 63,
   "metadata": {},
   "outputs": [
    {
     "data": {
      "text/plain": [
       "(0.1890821052708428, 0.997590222878304)"
      ]
     },
     "execution_count": 63,
     "metadata": {},
     "output_type": "execute_result"
    }
   ],
   "source": [
    "# Decision Tree Regression\n",
    "from sklearn.tree import DecisionTreeRegressor\n",
    "decision_tree_regressor = DecisionTreeRegressor().fit(X_train_duration, y_train_duration)\n",
    "decision_tree_predictions = decision_tree_regressor.predict(X_test_duration)\n",
    "decision_tree_score = decision_tree_regressor.score(X_test_duration, y_test_duration)\n",
    "decision_tree_score_train = decision_tree_regressor.score(X_train_duration, y_train_duration)\n",
    "decision_tree_score, decision_tree_score_train"
   ]
  },
  {
   "cell_type": "code",
   "execution_count": 64,
   "metadata": {},
   "outputs": [
    {
     "data": {
      "text/plain": [
       "(0.5487185182938721, 0.9369869113286888)"
      ]
     },
     "execution_count": 64,
     "metadata": {},
     "output_type": "execute_result"
    }
   ],
   "source": [
    "# Random Forest\n",
    "from sklearn.ensemble import RandomForestRegressor\n",
    "random_forest_regressor = RandomForestRegressor(n_jobs=-1).fit(X_train_duration, y_train_duration)\n",
    "random_forest_predictions = random_forest_regressor.predict(X_test_duration)\n",
    "random_forest_score = random_forest_regressor.score(X_test_duration, y_test_duration)\n",
    "random_forest_score_train = random_forest_regressor.score(X_train_duration, y_train_duration)\n",
    "random_forest_score, random_forest_score_train"
   ]
  },
  {
   "cell_type": "code",
   "execution_count": 65,
   "metadata": {},
   "outputs": [
    {
     "data": {
      "text/plain": [
       "(0.5982596708825935, 0.6077124455463709)"
      ]
     },
     "execution_count": 65,
     "metadata": {},
     "output_type": "execute_result"
    }
   ],
   "source": [
    "# Gradient Boosting Regressor\n",
    "from sklearn.ensemble import GradientBoostingRegressor\n",
    "gradient_regressor = GradientBoostingRegressor().fit(X_train_duration, y_train_duration)\n",
    "gradient_regressor_predictions = gradient_regressor.predict(X_test_duration)\n",
    "gradient_regressor_score = gradient_regressor.score(X_test_duration, y_test_duration)\n",
    "gradient_regressor_score_train = gradient_regressor.score(X_train_duration, y_train_duration)\n",
    "gradient_regressor_score, gradient_regressor_score_train"
   ]
  },
  {
   "cell_type": "code",
   "execution_count": 66,
   "metadata": {},
   "outputs": [
    {
     "data": {
      "text/plain": [
       "(0.5595522807950908, 0.5642892285832096)"
      ]
     },
     "execution_count": 66,
     "metadata": {},
     "output_type": "execute_result"
    }
   ],
   "source": [
    "# Adaboost Regressor\n",
    "from sklearn.ensemble import AdaBoostRegressor\n",
    "AdaBoost_regressor = AdaBoostRegressor().fit(X_train_duration, y_train_duration)\n",
    "AdaBoost_regressor_predictions = AdaBoost_regressor.predict(X_test_duration)\n",
    "AdaBoost_regressor_score = AdaBoost_regressor.score(X_test_duration, y_test_duration)\n",
    "AdaBoost_regressor_score_train = AdaBoost_regressor.score(X_train_duration, y_train_duration)\n",
    "AdaBoost_regressor_score, AdaBoost_regressor_score_train"
   ]
  },
  {
   "cell_type": "code",
   "execution_count": 67,
   "metadata": {},
   "outputs": [
    {
     "data": {
      "text/plain": [
       "(0.5141953391291021, 0.9161011495976533)"
      ]
     },
     "execution_count": 67,
     "metadata": {},
     "output_type": "execute_result"
    }
   ],
   "source": [
    "# Bagging Regressor\n",
    "from sklearn.ensemble import BaggingRegressor\n",
    "Bagging_regressor = BaggingRegressor().fit(X_train_duration, y_train_duration)\n",
    "Bagging_regressor_predictions = Bagging_regressor.predict(X_test_duration)\n",
    "Bagging_regressor_score = Bagging_regressor.score(X_test_duration, y_test_duration)\n",
    "Bagging_regressor_score_train = Bagging_regressor.score(X_train_duration, y_train_duration)\n",
    "Bagging_regressor_score, Bagging_regressor_score_train"
   ]
  },
  {
   "cell_type": "markdown",
   "metadata": {},
   "source": [
    "### Predict total counts using x_pos, y_pos, energy_kev, duration\n",
    "Best result - Gradient Boosting 0.2277"
   ]
  },
  {
   "cell_type": "code",
   "execution_count": 68,
   "metadata": {},
   "outputs": [],
   "source": [
    "y_train_counts = X_train['total_counts']\n",
    "X_train_counts = X_train[['x_pos', 'y_pos', 'energy_kev', 'duration']]\n",
    "\n",
    "y_test_counts = X_test['total_counts']\n",
    "X_test_counts = X_test[['x_pos', 'y_pos', 'energy_kev', 'duration']]"
   ]
  },
  {
   "cell_type": "code",
   "execution_count": 71,
   "metadata": {},
   "outputs": [
    {
     "data": {
      "text/plain": [
       "(0.08804013779237807, 0.8742934338152062)"
      ]
     },
     "execution_count": 71,
     "metadata": {},
     "output_type": "execute_result"
    }
   ],
   "source": [
    "# Random Forest\n",
    "from sklearn.ensemble import RandomForestRegressor\n",
    "random_forest_regressor = RandomForestRegressor(n_jobs=-1).fit(X_train_counts, y_train_counts)\n",
    "random_forest_predictions = random_forest_regressor.predict(X_test_counts)\n",
    "random_forest_score = random_forest_regressor.score(X_test_counts, y_test_counts)\n",
    "random_forest_score_train = random_forest_regressor.score(X_train_counts, y_train_counts)\n",
    "random_forest_score, random_forest_score_train"
   ]
  },
  {
   "cell_type": "code",
   "execution_count": 72,
   "metadata": {},
   "outputs": [
    {
     "data": {
      "text/plain": [
       "(0.22773367148476842, 0.7730226038570032)"
      ]
     },
     "execution_count": 72,
     "metadata": {},
     "output_type": "execute_result"
    }
   ],
   "source": [
    "# Gradient Boosting Regressor\n",
    "from sklearn.ensemble import GradientBoostingRegressor\n",
    "gradient_regressor = GradientBoostingRegressor().fit(X_train_counts, y_train_counts)\n",
    "gradient_regressor_predictions = gradient_regressor.predict(X_test_counts)\n",
    "gradient_regressor_score = gradient_regressor.score(X_test_counts, y_test_counts)\n",
    "gradient_regressor_score_train = gradient_regressor.score(X_train_counts, y_train_counts)\n",
    "gradient_regressor_score, gradient_regressor_score_train"
   ]
  },
  {
   "cell_type": "code",
   "execution_count": 73,
   "metadata": {},
   "outputs": [
    {
     "data": {
      "text/plain": [
       "(0.0848538167827505, 0.5948093895240167)"
      ]
     },
     "execution_count": 73,
     "metadata": {},
     "output_type": "execute_result"
    }
   ],
   "source": [
    "# Adaboost Regressor\n",
    "from sklearn.ensemble import AdaBoostRegressor\n",
    "AdaBoost_regressor = AdaBoostRegressor().fit(X_train_counts, y_train_counts)\n",
    "AdaBoost_regressor_predictions = AdaBoost_regressor.predict(X_test_counts)\n",
    "AdaBoost_regressor_score = AdaBoost_regressor.score(X_test_counts, y_test_counts)\n",
    "AdaBoost_regressor_score_train = AdaBoost_regressor.score(X_train_counts, y_train_counts)\n",
    "AdaBoost_regressor_score, AdaBoost_regressor_score_train"
   ]
  },
  {
   "cell_type": "code",
   "execution_count": 74,
   "metadata": {},
   "outputs": [
    {
     "data": {
      "text/plain": [
       "(0.07098700584774575, 0.8334216564370073)"
      ]
     },
     "execution_count": 74,
     "metadata": {},
     "output_type": "execute_result"
    }
   ],
   "source": [
    "# Bagging Regressor\n",
    "from sklearn.ensemble import BaggingRegressor\n",
    "Bagging_regressor = BaggingRegressor().fit(X_train_counts, y_train_counts)\n",
    "Bagging_regressor_predictions = Bagging_regressor.predict(X_test_counts)\n",
    "Bagging_regressor_score = Bagging_regressor.score(X_test_counts, y_test_counts)\n",
    "Bagging_regressor_score_train = Bagging_regressor.score(X_train_counts, y_train_counts)\n",
    "Bagging_regressor_score, Bagging_regressor_score_train"
   ]
  },
  {
   "cell_type": "code",
   "execution_count": null,
   "metadata": {},
   "outputs": [],
   "source": []
  }
 ],
 "metadata": {
  "interpreter": {
   "hash": "0267f72e179a3291ac96e6d5bd4183587567e0f47878f79b81464ab264b49583"
  },
  "kernelspec": {
   "display_name": "Python 3.9.7 64-bit ('cse258': conda)",
   "language": "python",
   "name": "python3"
  },
  "language_info": {
   "codemirror_mode": {
    "name": "ipython",
    "version": 3
   },
   "file_extension": ".py",
   "mimetype": "text/x-python",
   "name": "python",
   "nbconvert_exporter": "python",
   "pygments_lexer": "ipython3",
   "version": "3.9.7"
  },
  "orig_nbformat": 4
 },
 "nbformat": 4,
 "nbformat_minor": 2
}
